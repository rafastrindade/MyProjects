{
 "cells": [
  {
   "cell_type": "code",
   "execution_count": 2,
   "id": "d9126b0d",
   "metadata": {},
   "outputs": [],
   "source": [
    "# Import libraries\n",
    "import numpy as np\n",
    "import pandas as pd\n",
    "import datetime\n",
    "import seaborn as sns\n",
    "import matplotlib.pyplot as plt"
   ]
  },
  {
   "cell_type": "code",
   "execution_count": 3,
   "id": "665626c5",
   "metadata": {},
   "outputs": [
    {
     "data": {
      "text/html": [
       "<style>.container { width:90% !important; }</style>"
      ],
      "text/plain": [
       "<IPython.core.display.HTML object>"
      ]
     },
     "metadata": {},
     "output_type": "display_data"
    }
   ],
   "source": [
    "# Widen jupyter notebook cells\n",
    "from IPython.display import display, HTML\n",
    "display(HTML(\"<style>.container { width:90% !important; }</style>\"))\n",
    "\n",
    "# Show all columns in the head command\n",
    "pd.set_option('display.max_columns', None)"
   ]
  },
  {
   "cell_type": "code",
   "execution_count": 4,
   "id": "30774b58",
   "metadata": {},
   "outputs": [],
   "source": [
    "# Load data from the csv file into a DataFrame and save in a variable\n",
    "df = pd.read_csv(\"netflix.csv\")"
   ]
  },
  {
   "cell_type": "code",
   "execution_count": 5,
   "id": "53802e24",
   "metadata": {},
   "outputs": [
    {
     "data": {
      "text/html": [
       "<div>\n",
       "<style scoped>\n",
       "    .dataframe tbody tr th:only-of-type {\n",
       "        vertical-align: middle;\n",
       "    }\n",
       "\n",
       "    .dataframe tbody tr th {\n",
       "        vertical-align: top;\n",
       "    }\n",
       "\n",
       "    .dataframe thead th {\n",
       "        text-align: right;\n",
       "    }\n",
       "</style>\n",
       "<table border=\"1\" class=\"dataframe\">\n",
       "  <thead>\n",
       "    <tr style=\"text-align: right;\">\n",
       "      <th></th>\n",
       "      <th>User ID</th>\n",
       "      <th>Subscription Type</th>\n",
       "      <th>Monthly Revenue</th>\n",
       "      <th>Join Date</th>\n",
       "      <th>Last Payment Date</th>\n",
       "      <th>Country</th>\n",
       "      <th>Age</th>\n",
       "      <th>Gender</th>\n",
       "      <th>Device</th>\n",
       "      <th>Plan Duration</th>\n",
       "    </tr>\n",
       "  </thead>\n",
       "  <tbody>\n",
       "    <tr>\n",
       "      <th>0</th>\n",
       "      <td>1</td>\n",
       "      <td>Basic</td>\n",
       "      <td>10</td>\n",
       "      <td>15-01-22</td>\n",
       "      <td>10-06-23</td>\n",
       "      <td>United States</td>\n",
       "      <td>28</td>\n",
       "      <td>Male</td>\n",
       "      <td>Smartphone</td>\n",
       "      <td>1 Month</td>\n",
       "    </tr>\n",
       "    <tr>\n",
       "      <th>1</th>\n",
       "      <td>2</td>\n",
       "      <td>Premium</td>\n",
       "      <td>15</td>\n",
       "      <td>05-09-21</td>\n",
       "      <td>22-06-23</td>\n",
       "      <td>Canada</td>\n",
       "      <td>35</td>\n",
       "      <td>Female</td>\n",
       "      <td>Tablet</td>\n",
       "      <td>1 Month</td>\n",
       "    </tr>\n",
       "    <tr>\n",
       "      <th>2</th>\n",
       "      <td>3</td>\n",
       "      <td>Standard</td>\n",
       "      <td>12</td>\n",
       "      <td>28-02-23</td>\n",
       "      <td>27-06-23</td>\n",
       "      <td>United Kingdom</td>\n",
       "      <td>42</td>\n",
       "      <td>Male</td>\n",
       "      <td>Smart TV</td>\n",
       "      <td>1 Month</td>\n",
       "    </tr>\n",
       "    <tr>\n",
       "      <th>3</th>\n",
       "      <td>4</td>\n",
       "      <td>Standard</td>\n",
       "      <td>12</td>\n",
       "      <td>10-07-22</td>\n",
       "      <td>26-06-23</td>\n",
       "      <td>Australia</td>\n",
       "      <td>51</td>\n",
       "      <td>Female</td>\n",
       "      <td>Laptop</td>\n",
       "      <td>1 Month</td>\n",
       "    </tr>\n",
       "    <tr>\n",
       "      <th>4</th>\n",
       "      <td>5</td>\n",
       "      <td>Basic</td>\n",
       "      <td>10</td>\n",
       "      <td>01-05-23</td>\n",
       "      <td>28-06-23</td>\n",
       "      <td>Germany</td>\n",
       "      <td>33</td>\n",
       "      <td>Male</td>\n",
       "      <td>Smartphone</td>\n",
       "      <td>1 Month</td>\n",
       "    </tr>\n",
       "    <tr>\n",
       "      <th>...</th>\n",
       "      <td>...</td>\n",
       "      <td>...</td>\n",
       "      <td>...</td>\n",
       "      <td>...</td>\n",
       "      <td>...</td>\n",
       "      <td>...</td>\n",
       "      <td>...</td>\n",
       "      <td>...</td>\n",
       "      <td>...</td>\n",
       "      <td>...</td>\n",
       "    </tr>\n",
       "    <tr>\n",
       "      <th>2495</th>\n",
       "      <td>2496</td>\n",
       "      <td>Premium</td>\n",
       "      <td>14</td>\n",
       "      <td>25-07-22</td>\n",
       "      <td>12-07-23</td>\n",
       "      <td>Spain</td>\n",
       "      <td>28</td>\n",
       "      <td>Female</td>\n",
       "      <td>Smart TV</td>\n",
       "      <td>1 Month</td>\n",
       "    </tr>\n",
       "    <tr>\n",
       "      <th>2496</th>\n",
       "      <td>2497</td>\n",
       "      <td>Basic</td>\n",
       "      <td>15</td>\n",
       "      <td>04-08-22</td>\n",
       "      <td>14-07-23</td>\n",
       "      <td>Spain</td>\n",
       "      <td>33</td>\n",
       "      <td>Female</td>\n",
       "      <td>Smart TV</td>\n",
       "      <td>1 Month</td>\n",
       "    </tr>\n",
       "    <tr>\n",
       "      <th>2497</th>\n",
       "      <td>2498</td>\n",
       "      <td>Standard</td>\n",
       "      <td>12</td>\n",
       "      <td>09-08-22</td>\n",
       "      <td>15-07-23</td>\n",
       "      <td>United States</td>\n",
       "      <td>38</td>\n",
       "      <td>Male</td>\n",
       "      <td>Laptop</td>\n",
       "      <td>1 Month</td>\n",
       "    </tr>\n",
       "    <tr>\n",
       "      <th>2498</th>\n",
       "      <td>2499</td>\n",
       "      <td>Standard</td>\n",
       "      <td>13</td>\n",
       "      <td>12-08-22</td>\n",
       "      <td>12-07-23</td>\n",
       "      <td>Canada</td>\n",
       "      <td>48</td>\n",
       "      <td>Female</td>\n",
       "      <td>Tablet</td>\n",
       "      <td>1 Month</td>\n",
       "    </tr>\n",
       "    <tr>\n",
       "      <th>2499</th>\n",
       "      <td>2500</td>\n",
       "      <td>Basic</td>\n",
       "      <td>15</td>\n",
       "      <td>13-08-22</td>\n",
       "      <td>12-07-23</td>\n",
       "      <td>United States</td>\n",
       "      <td>35</td>\n",
       "      <td>Female</td>\n",
       "      <td>Smart TV</td>\n",
       "      <td>1 Month</td>\n",
       "    </tr>\n",
       "  </tbody>\n",
       "</table>\n",
       "<p>2500 rows × 10 columns</p>\n",
       "</div>"
      ],
      "text/plain": [
       "      User ID Subscription Type  Monthly Revenue Join Date Last Payment Date  \\\n",
       "0           1             Basic               10  15-01-22          10-06-23   \n",
       "1           2           Premium               15  05-09-21          22-06-23   \n",
       "2           3          Standard               12  28-02-23          27-06-23   \n",
       "3           4          Standard               12  10-07-22          26-06-23   \n",
       "4           5             Basic               10  01-05-23          28-06-23   \n",
       "...       ...               ...              ...       ...               ...   \n",
       "2495     2496           Premium               14  25-07-22          12-07-23   \n",
       "2496     2497             Basic               15  04-08-22          14-07-23   \n",
       "2497     2498          Standard               12  09-08-22          15-07-23   \n",
       "2498     2499          Standard               13  12-08-22          12-07-23   \n",
       "2499     2500             Basic               15  13-08-22          12-07-23   \n",
       "\n",
       "             Country  Age  Gender      Device Plan Duration  \n",
       "0      United States   28    Male  Smartphone       1 Month  \n",
       "1             Canada   35  Female      Tablet       1 Month  \n",
       "2     United Kingdom   42    Male    Smart TV       1 Month  \n",
       "3          Australia   51  Female      Laptop       1 Month  \n",
       "4            Germany   33    Male  Smartphone       1 Month  \n",
       "...              ...  ...     ...         ...           ...  \n",
       "2495           Spain   28  Female    Smart TV       1 Month  \n",
       "2496           Spain   33  Female    Smart TV       1 Month  \n",
       "2497   United States   38    Male      Laptop       1 Month  \n",
       "2498          Canada   48  Female      Tablet       1 Month  \n",
       "2499   United States   35  Female    Smart TV       1 Month  \n",
       "\n",
       "[2500 rows x 10 columns]"
      ]
     },
     "execution_count": 5,
     "metadata": {},
     "output_type": "execute_result"
    }
   ],
   "source": [
    "df.head(len(df))"
   ]
  },
  {
   "cell_type": "code",
   "execution_count": 6,
   "id": "2faefe67",
   "metadata": {},
   "outputs": [
    {
     "name": "stdout",
     "output_type": "stream",
     "text": [
      "<class 'pandas.core.frame.DataFrame'>\n",
      "RangeIndex: 2500 entries, 0 to 2499\n",
      "Data columns (total 10 columns):\n",
      " #   Column             Non-Null Count  Dtype \n",
      "---  ------             --------------  ----- \n",
      " 0   User ID            2500 non-null   int64 \n",
      " 1   Subscription Type  2500 non-null   object\n",
      " 2   Monthly Revenue    2500 non-null   int64 \n",
      " 3   Join Date          2500 non-null   object\n",
      " 4   Last Payment Date  2500 non-null   object\n",
      " 5   Country            2500 non-null   object\n",
      " 6   Age                2500 non-null   int64 \n",
      " 7   Gender             2500 non-null   object\n",
      " 8   Device             2500 non-null   object\n",
      " 9   Plan Duration      2500 non-null   object\n",
      "dtypes: int64(3), object(7)\n",
      "memory usage: 195.4+ KB\n"
     ]
    }
   ],
   "source": [
    "# Informations on the dataset\n",
    "df.info()"
   ]
  },
  {
   "cell_type": "code",
   "execution_count": 7,
   "id": "fb856de5",
   "metadata": {},
   "outputs": [
    {
     "data": {
      "text/html": [
       "<div>\n",
       "<style scoped>\n",
       "    .dataframe tbody tr th:only-of-type {\n",
       "        vertical-align: middle;\n",
       "    }\n",
       "\n",
       "    .dataframe tbody tr th {\n",
       "        vertical-align: top;\n",
       "    }\n",
       "\n",
       "    .dataframe thead th {\n",
       "        text-align: right;\n",
       "    }\n",
       "</style>\n",
       "<table border=\"1\" class=\"dataframe\">\n",
       "  <thead>\n",
       "    <tr style=\"text-align: right;\">\n",
       "      <th></th>\n",
       "      <th>user_id</th>\n",
       "      <th>subs_type</th>\n",
       "      <th>monthly_revenue</th>\n",
       "      <th>join_date</th>\n",
       "      <th>last_pay_date</th>\n",
       "      <th>Country</th>\n",
       "      <th>Age</th>\n",
       "      <th>Gender</th>\n",
       "      <th>Device</th>\n",
       "      <th>plan_duration</th>\n",
       "    </tr>\n",
       "  </thead>\n",
       "  <tbody>\n",
       "    <tr>\n",
       "      <th>0</th>\n",
       "      <td>1</td>\n",
       "      <td>Basic</td>\n",
       "      <td>10</td>\n",
       "      <td>15-01-22</td>\n",
       "      <td>10-06-23</td>\n",
       "      <td>United States</td>\n",
       "      <td>28</td>\n",
       "      <td>Male</td>\n",
       "      <td>Smartphone</td>\n",
       "      <td>1 Month</td>\n",
       "    </tr>\n",
       "    <tr>\n",
       "      <th>1</th>\n",
       "      <td>2</td>\n",
       "      <td>Premium</td>\n",
       "      <td>15</td>\n",
       "      <td>05-09-21</td>\n",
       "      <td>22-06-23</td>\n",
       "      <td>Canada</td>\n",
       "      <td>35</td>\n",
       "      <td>Female</td>\n",
       "      <td>Tablet</td>\n",
       "      <td>1 Month</td>\n",
       "    </tr>\n",
       "    <tr>\n",
       "      <th>2</th>\n",
       "      <td>3</td>\n",
       "      <td>Standard</td>\n",
       "      <td>12</td>\n",
       "      <td>28-02-23</td>\n",
       "      <td>27-06-23</td>\n",
       "      <td>United Kingdom</td>\n",
       "      <td>42</td>\n",
       "      <td>Male</td>\n",
       "      <td>Smart TV</td>\n",
       "      <td>1 Month</td>\n",
       "    </tr>\n",
       "    <tr>\n",
       "      <th>3</th>\n",
       "      <td>4</td>\n",
       "      <td>Standard</td>\n",
       "      <td>12</td>\n",
       "      <td>10-07-22</td>\n",
       "      <td>26-06-23</td>\n",
       "      <td>Australia</td>\n",
       "      <td>51</td>\n",
       "      <td>Female</td>\n",
       "      <td>Laptop</td>\n",
       "      <td>1 Month</td>\n",
       "    </tr>\n",
       "    <tr>\n",
       "      <th>4</th>\n",
       "      <td>5</td>\n",
       "      <td>Basic</td>\n",
       "      <td>10</td>\n",
       "      <td>01-05-23</td>\n",
       "      <td>28-06-23</td>\n",
       "      <td>Germany</td>\n",
       "      <td>33</td>\n",
       "      <td>Male</td>\n",
       "      <td>Smartphone</td>\n",
       "      <td>1 Month</td>\n",
       "    </tr>\n",
       "  </tbody>\n",
       "</table>\n",
       "</div>"
      ],
      "text/plain": [
       "   user_id subs_type  monthly_revenue join_date last_pay_date         Country  \\\n",
       "0        1     Basic               10  15-01-22      10-06-23   United States   \n",
       "1        2   Premium               15  05-09-21      22-06-23          Canada   \n",
       "2        3  Standard               12  28-02-23      27-06-23  United Kingdom   \n",
       "3        4  Standard               12  10-07-22      26-06-23       Australia   \n",
       "4        5     Basic               10  01-05-23      28-06-23         Germany   \n",
       "\n",
       "   Age  Gender      Device plan_duration  \n",
       "0   28    Male  Smartphone       1 Month  \n",
       "1   35  Female      Tablet       1 Month  \n",
       "2   42    Male    Smart TV       1 Month  \n",
       "3   51  Female      Laptop       1 Month  \n",
       "4   33    Male  Smartphone       1 Month  "
      ]
     },
     "execution_count": 7,
     "metadata": {},
     "output_type": "execute_result"
    }
   ],
   "source": [
    "# Renaming columns\n",
    "df.rename(columns={\"User ID\": \"user_id\",\n",
    "                   \"Subscription Type\": \"subs_type\",\n",
    "                   \"Monthly Revenue\": \"monthly_revenue\",\n",
    "                   \"Join Date\": \"join_date\",\n",
    "                   \"Last Payment Date\": \"last_pay_date\",\n",
    "                   \"Plan Duration\": \"plan_duration\"}, inplace=True)\n",
    "df.head()"
   ]
  },
  {
   "cell_type": "code",
   "execution_count": 8,
   "id": "4d2382a5",
   "metadata": {},
   "outputs": [],
   "source": [
    "# Convert the `date` column to datetime\n",
    "df['join_date'] = pd.to_datetime(df['join_date'])"
   ]
  },
  {
   "cell_type": "code",
   "execution_count": 9,
   "id": "5532c83c",
   "metadata": {},
   "outputs": [],
   "source": [
    "# Convert the `date` column to datetime\n",
    "df['last_pay_date'] = pd.to_datetime(df['last_pay_date'])"
   ]
  },
  {
   "cell_type": "code",
   "execution_count": 10,
   "id": "28b2e284",
   "metadata": {
    "scrolled": true
   },
   "outputs": [
    {
     "name": "stdout",
     "output_type": "stream",
     "text": [
      "<class 'pandas.core.frame.DataFrame'>\n",
      "RangeIndex: 2500 entries, 0 to 2499\n",
      "Data columns (total 10 columns):\n",
      " #   Column           Non-Null Count  Dtype         \n",
      "---  ------           --------------  -----         \n",
      " 0   user_id          2500 non-null   int64         \n",
      " 1   subs_type        2500 non-null   object        \n",
      " 2   monthly_revenue  2500 non-null   int64         \n",
      " 3   join_date        2500 non-null   datetime64[ns]\n",
      " 4   last_pay_date    2500 non-null   datetime64[ns]\n",
      " 5   Country          2500 non-null   object        \n",
      " 6   Age              2500 non-null   int64         \n",
      " 7   Gender           2500 non-null   object        \n",
      " 8   Device           2500 non-null   object        \n",
      " 9   plan_duration    2500 non-null   object        \n",
      "dtypes: datetime64[ns](2), int64(3), object(5)\n",
      "memory usage: 195.4+ KB\n"
     ]
    }
   ],
   "source": [
    "df.info()"
   ]
  },
  {
   "cell_type": "code",
   "execution_count": 11,
   "id": "679180d6",
   "metadata": {},
   "outputs": [
    {
     "data": {
      "text/plain": [
       "0       1 Month\n",
       "1       1 Month\n",
       "2       1 Month\n",
       "3       1 Month\n",
       "4       1 Month\n",
       "         ...   \n",
       "2495    1 Month\n",
       "2496    1 Month\n",
       "2497    1 Month\n",
       "2498    1 Month\n",
       "2499    1 Month\n",
       "Name: plan_duration, Length: 2500, dtype: object"
      ]
     },
     "execution_count": 11,
     "metadata": {},
     "output_type": "execute_result"
    }
   ],
   "source": [
    "df['plan_duration']"
   ]
  },
  {
   "cell_type": "code",
   "execution_count": 12,
   "id": "0fa0e3ea",
   "metadata": {},
   "outputs": [
    {
     "data": {
      "text/html": [
       "<div>\n",
       "<style scoped>\n",
       "    .dataframe tbody tr th:only-of-type {\n",
       "        vertical-align: middle;\n",
       "    }\n",
       "\n",
       "    .dataframe tbody tr th {\n",
       "        vertical-align: top;\n",
       "    }\n",
       "\n",
       "    .dataframe thead th {\n",
       "        text-align: right;\n",
       "    }\n",
       "</style>\n",
       "<table border=\"1\" class=\"dataframe\">\n",
       "  <thead>\n",
       "    <tr style=\"text-align: right;\">\n",
       "      <th></th>\n",
       "      <th>user_id</th>\n",
       "      <th>subs_type</th>\n",
       "      <th>monthly_revenue</th>\n",
       "      <th>join_date</th>\n",
       "      <th>last_pay_date</th>\n",
       "      <th>Country</th>\n",
       "      <th>Age</th>\n",
       "      <th>Gender</th>\n",
       "      <th>Device</th>\n",
       "    </tr>\n",
       "  </thead>\n",
       "  <tbody>\n",
       "    <tr>\n",
       "      <th>0</th>\n",
       "      <td>1</td>\n",
       "      <td>Basic</td>\n",
       "      <td>10</td>\n",
       "      <td>2022-01-15</td>\n",
       "      <td>2023-10-06</td>\n",
       "      <td>United States</td>\n",
       "      <td>28</td>\n",
       "      <td>Male</td>\n",
       "      <td>Smartphone</td>\n",
       "    </tr>\n",
       "    <tr>\n",
       "      <th>1</th>\n",
       "      <td>2</td>\n",
       "      <td>Premium</td>\n",
       "      <td>15</td>\n",
       "      <td>2021-05-09</td>\n",
       "      <td>2023-06-22</td>\n",
       "      <td>Canada</td>\n",
       "      <td>35</td>\n",
       "      <td>Female</td>\n",
       "      <td>Tablet</td>\n",
       "    </tr>\n",
       "    <tr>\n",
       "      <th>2</th>\n",
       "      <td>3</td>\n",
       "      <td>Standard</td>\n",
       "      <td>12</td>\n",
       "      <td>2023-02-28</td>\n",
       "      <td>2023-06-27</td>\n",
       "      <td>United Kingdom</td>\n",
       "      <td>42</td>\n",
       "      <td>Male</td>\n",
       "      <td>Smart TV</td>\n",
       "    </tr>\n",
       "    <tr>\n",
       "      <th>3</th>\n",
       "      <td>4</td>\n",
       "      <td>Standard</td>\n",
       "      <td>12</td>\n",
       "      <td>2022-10-07</td>\n",
       "      <td>2023-06-26</td>\n",
       "      <td>Australia</td>\n",
       "      <td>51</td>\n",
       "      <td>Female</td>\n",
       "      <td>Laptop</td>\n",
       "    </tr>\n",
       "    <tr>\n",
       "      <th>4</th>\n",
       "      <td>5</td>\n",
       "      <td>Basic</td>\n",
       "      <td>10</td>\n",
       "      <td>2023-01-05</td>\n",
       "      <td>2023-06-28</td>\n",
       "      <td>Germany</td>\n",
       "      <td>33</td>\n",
       "      <td>Male</td>\n",
       "      <td>Smartphone</td>\n",
       "    </tr>\n",
       "  </tbody>\n",
       "</table>\n",
       "</div>"
      ],
      "text/plain": [
       "   user_id subs_type  monthly_revenue  join_date last_pay_date  \\\n",
       "0        1     Basic               10 2022-01-15    2023-10-06   \n",
       "1        2   Premium               15 2021-05-09    2023-06-22   \n",
       "2        3  Standard               12 2023-02-28    2023-06-27   \n",
       "3        4  Standard               12 2022-10-07    2023-06-26   \n",
       "4        5     Basic               10 2023-01-05    2023-06-28   \n",
       "\n",
       "          Country  Age  Gender      Device  \n",
       "0   United States   28    Male  Smartphone  \n",
       "1          Canada   35  Female      Tablet  \n",
       "2  United Kingdom   42    Male    Smart TV  \n",
       "3       Australia   51  Female      Laptop  \n",
       "4         Germany   33    Male  Smartphone  "
      ]
     },
     "execution_count": 12,
     "metadata": {},
     "output_type": "execute_result"
    }
   ],
   "source": [
    "# Column 'Plan Duration' has the same value for every row, hence, it is irrelevant for this analysis and will be removed from dataset.\n",
    "\n",
    "df = df[['user_id', 'subs_type', 'monthly_revenue', 'join_date', 'last_pay_date', 'Country', 'Age', 'Gender', 'Device']].copy()\n",
    "df.head()"
   ]
  },
  {
   "cell_type": "code",
   "execution_count": 13,
   "id": "baaf4d43",
   "metadata": {},
   "outputs": [
    {
     "data": {
      "text/plain": [
       "Basic       999\n",
       "Standard    768\n",
       "Premium     733\n",
       "Name: subs_type, dtype: int64"
      ]
     },
     "execution_count": 13,
     "metadata": {},
     "output_type": "execute_result"
    }
   ],
   "source": [
    "# Analyzing the types of subscriptions\n",
    "\n",
    "df['subs_type'].value_counts()"
   ]
  },
  {
   "cell_type": "code",
   "execution_count": 14,
   "id": "78fbeb09",
   "metadata": {},
   "outputs": [
    {
     "data": {
      "text/plain": [
       "Basic       0.3996\n",
       "Standard    0.3072\n",
       "Premium     0.2932\n",
       "Name: subs_type, dtype: float64"
      ]
     },
     "execution_count": 14,
     "metadata": {},
     "output_type": "execute_result"
    }
   ],
   "source": [
    "df['subs_type'].value_counts(normalize=True)"
   ]
  },
  {
   "cell_type": "code",
   "execution_count": 15,
   "id": "5cf4377e",
   "metadata": {},
   "outputs": [
    {
     "data": {
      "text/plain": [
       "Text(0, 0.5, '')"
      ]
     },
     "execution_count": 15,
     "metadata": {},
     "output_type": "execute_result"
    },
    {
     "data": {
      "image/png": "[encoded data removed]",
      "text/plain": [
       "<Figure size 864x576 with 1 Axes>"
      ]
     },
     "metadata": {},
     "output_type": "display_data"
    }
   ],
   "source": [
    "plt.figure(figsize=(12,8));\n",
    "\n",
    "services = df['subs_type'].value_counts(normalize=True)\n",
    "services.plot(kind='pie')\n",
    "\n",
    "plt.title('Type of subscription')\n",
    "plt.ylabel(\"\")\n"
   ]
  },
  {
   "cell_type": "code",
   "execution_count": null,
   "id": "51643407",
   "metadata": {},
   "outputs": [],
   "source": [
    "# Evaluating Age"
   ]
  },
  {
   "cell_type": "code",
   "execution_count": 30,
   "id": "1a4c4ae2",
   "metadata": {},
   "outputs": [
    {
     "data": {
      "text/plain": [
       "array([26, 27, 28, 29, 30, 31, 32, 33, 34, 35, 36, 37, 38, 39, 40, 41, 42,\n",
       "       43, 44, 45, 46, 47, 48, 49, 50, 51], dtype=int64)"
      ]
     },
     "execution_count": 30,
     "metadata": {},
     "output_type": "execute_result"
    }
   ],
   "source": [
    "df['Age'].unique()"
   ]
  },
  {
   "cell_type": "code",
   "execution_count": 28,
   "id": "4714006c",
   "metadata": {},
   "outputs": [
    {
     "data": {
      "text/html": [
       "<div>\n",
       "<style scoped>\n",
       "    .dataframe tbody tr th:only-of-type {\n",
       "        vertical-align: middle;\n",
       "    }\n",
       "\n",
       "    .dataframe tbody tr th {\n",
       "        vertical-align: top;\n",
       "    }\n",
       "\n",
       "    .dataframe thead th {\n",
       "        text-align: right;\n",
       "    }\n",
       "</style>\n",
       "<table border=\"1\" class=\"dataframe\">\n",
       "  <thead>\n",
       "    <tr style=\"text-align: right;\">\n",
       "      <th></th>\n",
       "      <th>user_id</th>\n",
       "      <th>subs_type</th>\n",
       "      <th>monthly_revenue</th>\n",
       "      <th>join_date</th>\n",
       "      <th>last_pay_date</th>\n",
       "      <th>Country</th>\n",
       "      <th>Age</th>\n",
       "      <th>Gender</th>\n",
       "      <th>Device</th>\n",
       "    </tr>\n",
       "  </thead>\n",
       "  <tbody>\n",
       "    <tr>\n",
       "      <th>20</th>\n",
       "      <td>21</td>\n",
       "      <td>Premium</td>\n",
       "      <td>15</td>\n",
       "      <td>2023-10-06</td>\n",
       "      <td>2023-06-22</td>\n",
       "      <td>United States</td>\n",
       "      <td>26</td>\n",
       "      <td>Female</td>\n",
       "      <td>Laptop</td>\n",
       "    </tr>\n",
       "    <tr>\n",
       "      <th>2349</th>\n",
       "      <td>2350</td>\n",
       "      <td>Basic</td>\n",
       "      <td>12</td>\n",
       "      <td>2022-07-14</td>\n",
       "      <td>2023-07-13</td>\n",
       "      <td>United States</td>\n",
       "      <td>27</td>\n",
       "      <td>Female</td>\n",
       "      <td>Laptop</td>\n",
       "    </tr>\n",
       "    <tr>\n",
       "      <th>1734</th>\n",
       "      <td>1735</td>\n",
       "      <td>Premium</td>\n",
       "      <td>10</td>\n",
       "      <td>2022-08-27</td>\n",
       "      <td>2023-06-07</td>\n",
       "      <td>United States</td>\n",
       "      <td>27</td>\n",
       "      <td>Male</td>\n",
       "      <td>Smartphone</td>\n",
       "    </tr>\n",
       "    <tr>\n",
       "      <th>418</th>\n",
       "      <td>419</td>\n",
       "      <td>Standard</td>\n",
       "      <td>11</td>\n",
       "      <td>2022-10-30</td>\n",
       "      <td>2023-06-27</td>\n",
       "      <td>Spain</td>\n",
       "      <td>27</td>\n",
       "      <td>Female</td>\n",
       "      <td>Laptop</td>\n",
       "    </tr>\n",
       "    <tr>\n",
       "      <th>1732</th>\n",
       "      <td>1733</td>\n",
       "      <td>Basic</td>\n",
       "      <td>15</td>\n",
       "      <td>2022-08-16</td>\n",
       "      <td>2023-06-07</td>\n",
       "      <td>United States</td>\n",
       "      <td>27</td>\n",
       "      <td>Female</td>\n",
       "      <td>Tablet</td>\n",
       "    </tr>\n",
       "    <tr>\n",
       "      <th>...</th>\n",
       "      <td>...</td>\n",
       "      <td>...</td>\n",
       "      <td>...</td>\n",
       "      <td>...</td>\n",
       "      <td>...</td>\n",
       "      <td>...</td>\n",
       "      <td>...</td>\n",
       "      <td>...</td>\n",
       "      <td>...</td>\n",
       "    </tr>\n",
       "    <tr>\n",
       "      <th>1579</th>\n",
       "      <td>1580</td>\n",
       "      <td>Basic</td>\n",
       "      <td>15</td>\n",
       "      <td>2022-06-26</td>\n",
       "      <td>2023-08-07</td>\n",
       "      <td>Italy</td>\n",
       "      <td>51</td>\n",
       "      <td>Female</td>\n",
       "      <td>Smart TV</td>\n",
       "    </tr>\n",
       "    <tr>\n",
       "      <th>226</th>\n",
       "      <td>227</td>\n",
       "      <td>Premium</td>\n",
       "      <td>12</td>\n",
       "      <td>2022-09-30</td>\n",
       "      <td>2023-06-24</td>\n",
       "      <td>Brazil</td>\n",
       "      <td>51</td>\n",
       "      <td>Female</td>\n",
       "      <td>Smartphone</td>\n",
       "    </tr>\n",
       "    <tr>\n",
       "      <th>2366</th>\n",
       "      <td>2367</td>\n",
       "      <td>Basic</td>\n",
       "      <td>12</td>\n",
       "      <td>2022-09-17</td>\n",
       "      <td>2023-10-07</td>\n",
       "      <td>Canada</td>\n",
       "      <td>51</td>\n",
       "      <td>Male</td>\n",
       "      <td>Tablet</td>\n",
       "    </tr>\n",
       "    <tr>\n",
       "      <th>613</th>\n",
       "      <td>614</td>\n",
       "      <td>Basic</td>\n",
       "      <td>15</td>\n",
       "      <td>2022-08-14</td>\n",
       "      <td>2023-06-28</td>\n",
       "      <td>Australia</td>\n",
       "      <td>51</td>\n",
       "      <td>Male</td>\n",
       "      <td>Smartphone</td>\n",
       "    </tr>\n",
       "    <tr>\n",
       "      <th>1085</th>\n",
       "      <td>1086</td>\n",
       "      <td>Premium</td>\n",
       "      <td>15</td>\n",
       "      <td>2022-06-26</td>\n",
       "      <td>2023-01-07</td>\n",
       "      <td>Spain</td>\n",
       "      <td>51</td>\n",
       "      <td>Female</td>\n",
       "      <td>Tablet</td>\n",
       "    </tr>\n",
       "  </tbody>\n",
       "</table>\n",
       "<p>2500 rows × 9 columns</p>\n",
       "</div>"
      ],
      "text/plain": [
       "      user_id subs_type  monthly_revenue  join_date last_pay_date  \\\n",
       "20         21   Premium               15 2023-10-06    2023-06-22   \n",
       "2349     2350     Basic               12 2022-07-14    2023-07-13   \n",
       "1734     1735   Premium               10 2022-08-27    2023-06-07   \n",
       "418       419  Standard               11 2022-10-30    2023-06-27   \n",
       "1732     1733     Basic               15 2022-08-16    2023-06-07   \n",
       "...       ...       ...              ...        ...           ...   \n",
       "1579     1580     Basic               15 2022-06-26    2023-08-07   \n",
       "226       227   Premium               12 2022-09-30    2023-06-24   \n",
       "2366     2367     Basic               12 2022-09-17    2023-10-07   \n",
       "613       614     Basic               15 2022-08-14    2023-06-28   \n",
       "1085     1086   Premium               15 2022-06-26    2023-01-07   \n",
       "\n",
       "            Country  Age  Gender      Device  \n",
       "20    United States   26  Female      Laptop  \n",
       "2349  United States   27  Female      Laptop  \n",
       "1734  United States   27    Male  Smartphone  \n",
       "418           Spain   27  Female      Laptop  \n",
       "1732  United States   27  Female      Tablet  \n",
       "...             ...  ...     ...         ...  \n",
       "1579          Italy   51  Female    Smart TV  \n",
       "226          Brazil   51  Female  Smartphone  \n",
       "2366         Canada   51    Male      Tablet  \n",
       "613       Australia   51    Male  Smartphone  \n",
       "1085          Spain   51  Female      Tablet  \n",
       "\n",
       "[2500 rows x 9 columns]"
      ]
     },
     "execution_count": 28,
     "metadata": {},
     "output_type": "execute_result"
    }
   ],
   "source": [
    "df.sort_values(by=['Age'], ascending=True, inplace=True)\n",
    "df.head(len(df))"
   ]
  },
  {
   "cell_type": "code",
   "execution_count": 31,
   "id": "d68409f1",
   "metadata": {},
   "outputs": [
    {
     "data": {
      "text/plain": [
       "39    0.0464\n",
       "30    0.0464\n",
       "28    0.0460\n",
       "31    0.0460\n",
       "41    0.0456\n",
       "47    0.0444\n",
       "37    0.0428\n",
       "35    0.0420\n",
       "29    0.0416\n",
       "40    0.0412\n",
       "42    0.0408\n",
       "48    0.0404\n",
       "36    0.0396\n",
       "46    0.0396\n",
       "49    0.0388\n",
       "43    0.0376\n",
       "51    0.0372\n",
       "33    0.0372\n",
       "32    0.0368\n",
       "45    0.0356\n",
       "38    0.0356\n",
       "34    0.0352\n",
       "27    0.0348\n",
       "44    0.0344\n",
       "50    0.0336\n",
       "26    0.0004\n",
       "Name: Age, dtype: float64"
      ]
     },
     "execution_count": 31,
     "metadata": {},
     "output_type": "execute_result"
    }
   ],
   "source": [
    "df['Age'].value_counts(normalize=True)"
   ]
  },
  {
   "cell_type": "code",
   "execution_count": 32,
   "id": "8b042a57",
   "metadata": {},
   "outputs": [
    {
     "data": {
      "text/plain": [
       "Text(0, 0.5, '')"
      ]
     },
     "execution_count": 32,
     "metadata": {},
     "output_type": "execute_result"
    },
    {
     "data": {
      "image/png": "[encoded data removed]",
      "text/plain": [
       "<Figure size 864x576 with 1 Axes>"
      ]
     },
     "metadata": {},
     "output_type": "display_data"
    }
   ],
   "source": [
    "plt.figure(figsize=(12,8));\n",
    "\n",
    "services = df['Age'].value_counts(normalize=True)\n",
    "services.plot(kind='pie')\n",
    "\n",
    "plt.title('Age')\n",
    "plt.ylabel(\"\")\n"
   ]
  },
  {
   "cell_type": "code",
   "execution_count": null,
   "id": "e51a3db4",
   "metadata": {},
   "outputs": [],
   "source": [
    "# Gender"
   ]
  },
  {
   "cell_type": "code",
   "execution_count": 34,
   "id": "c46b998d",
   "metadata": {},
   "outputs": [
    {
     "data": {
      "text/plain": [
       "Female    1257\n",
       "Male      1243\n",
       "Name: Gender, dtype: int64"
      ]
     },
     "execution_count": 34,
     "metadata": {},
     "output_type": "execute_result"
    }
   ],
   "source": [
    "df['Gender'].value_counts()"
   ]
  },
  {
   "cell_type": "code",
   "execution_count": 35,
   "id": "09ca8b7f",
   "metadata": {},
   "outputs": [
    {
     "data": {
      "text/plain": [
       "Female    0.5028\n",
       "Male      0.4972\n",
       "Name: Gender, dtype: float64"
      ]
     },
     "execution_count": 35,
     "metadata": {},
     "output_type": "execute_result"
    }
   ],
   "source": [
    "df['Gender'].value_counts(normalize=True)"
   ]
  },
  {
   "cell_type": "code",
   "execution_count": 36,
   "id": "74bf85ca",
   "metadata": {},
   "outputs": [
    {
     "data": {
      "text/plain": [
       "Text(0, 0.5, '')"
      ]
     },
     "execution_count": 36,
     "metadata": {},
     "output_type": "execute_result"
    },
    {
     "data": {
      "image/png": "[encoded data removed]",
      "text/plain": [
       "<Figure size 864x576 with 1 Axes>"
      ]
     },
     "metadata": {},
     "output_type": "display_data"
    }
   ],
   "source": [
    "plt.figure(figsize=(12,8));\n",
    "\n",
    "services = df['Gender'].value_counts(normalize=True)\n",
    "services.plot(kind='pie')\n",
    "\n",
    "plt.title('Gender')\n",
    "plt.ylabel(\"\")"
   ]
  },
  {
   "cell_type": "code",
   "execution_count": null,
   "id": "502fab73",
   "metadata": {},
   "outputs": [],
   "source": [
    "# Country"
   ]
  },
  {
   "cell_type": "code",
   "execution_count": 37,
   "id": "9b25ea14",
   "metadata": {},
   "outputs": [
    {
     "data": {
      "text/plain": [
       "United States     451\n",
       "Spain             451\n",
       "Canada            317\n",
       "Mexico            183\n",
       "France            183\n",
       "United Kingdom    183\n",
       "Brazil            183\n",
       "Australia         183\n",
       "Italy             183\n",
       "Germany           183\n",
       "Name: Country, dtype: int64"
      ]
     },
     "execution_count": 37,
     "metadata": {},
     "output_type": "execute_result"
    }
   ],
   "source": [
    "df['Country'].value_counts()"
   ]
  },
  {
   "cell_type": "code",
   "execution_count": 38,
   "id": "cd99d454",
   "metadata": {},
   "outputs": [
    {
     "data": {
      "text/plain": [
       "United States     0.1804\n",
       "Spain             0.1804\n",
       "Canada            0.1268\n",
       "Mexico            0.0732\n",
       "France            0.0732\n",
       "United Kingdom    0.0732\n",
       "Brazil            0.0732\n",
       "Australia         0.0732\n",
       "Italy             0.0732\n",
       "Germany           0.0732\n",
       "Name: Country, dtype: float64"
      ]
     },
     "execution_count": 38,
     "metadata": {},
     "output_type": "execute_result"
    }
   ],
   "source": [
    "df['Country'].value_counts(normalize=True)"
   ]
  },
  {
   "cell_type": "code",
   "execution_count": 39,
   "id": "38993686",
   "metadata": {},
   "outputs": [
    {
     "data": {
      "text/plain": [
       "Text(0, 0.5, '')"
      ]
     },
     "execution_count": 39,
     "metadata": {},
     "output_type": "execute_result"
    },
    {
     "data": {
      "image/png": "[encoded data removed]",
      "text/plain": [
       "<Figure size 864x576 with 1 Axes>"
      ]
     },
     "metadata": {},
     "output_type": "display_data"
    }
   ],
   "source": [
    "plt.figure(figsize=(12,8));\n",
    "\n",
    "services = df['Country'].value_counts(normalize=True)\n",
    "services.plot(kind='pie')\n",
    "\n",
    "plt.title('Country')\n",
    "plt.ylabel(\"\")"
   ]
  },
  {
   "cell_type": "code",
   "execution_count": null,
   "id": "cc4b59b5",
   "metadata": {},
   "outputs": [],
   "source": [
    "# Device"
   ]
  },
  {
   "cell_type": "code",
   "execution_count": 40,
   "id": "61412f9f",
   "metadata": {},
   "outputs": [
    {
     "data": {
      "text/plain": [
       "Laptop        636\n",
       "Tablet        633\n",
       "Smartphone    621\n",
       "Smart TV      610\n",
       "Name: Device, dtype: int64"
      ]
     },
     "execution_count": 40,
     "metadata": {},
     "output_type": "execute_result"
    }
   ],
   "source": [
    "df['Device'].value_counts()"
   ]
  },
  {
   "cell_type": "code",
   "execution_count": 41,
   "id": "65e6d787",
   "metadata": {},
   "outputs": [
    {
     "data": {
      "text/plain": [
       "Laptop        0.2544\n",
       "Tablet        0.2532\n",
       "Smartphone    0.2484\n",
       "Smart TV      0.2440\n",
       "Name: Device, dtype: float64"
      ]
     },
     "execution_count": 41,
     "metadata": {},
     "output_type": "execute_result"
    }
   ],
   "source": [
    "df['Device'].value_counts(normalize=True)"
   ]
  },
  {
   "cell_type": "code",
   "execution_count": 43,
   "id": "df6de906",
   "metadata": {},
   "outputs": [
    {
     "data": {
      "text/plain": [
       "Text(0, 0.5, '')"
      ]
     },
     "execution_count": 43,
     "metadata": {},
     "output_type": "execute_result"
    },
    {
     "data": {
      "image/png": "[encoded data removed]",
      "text/plain": [
       "<Figure size 864x576 with 1 Axes>"
      ]
     },
     "metadata": {},
     "output_type": "display_data"
    }
   ],
   "source": [
    "plt.figure(figsize=(12,8));\n",
    "\n",
    "services = df['Device'].value_counts(normalize=True)\n",
    "services.plot(kind='pie')\n",
    "\n",
    "plt.title('Device')\n",
    "plt.ylabel(\"\")"
   ]
  },
  {
   "cell_type": "code",
   "execution_count": null,
   "id": "6cd03b96",
   "metadata": {
    "collapsed": true
   },
   "outputs": [],
   "source": [
    "# So far this dataset seems to have well distributed values"
   ]
  },
  {
   "cell_type": "code",
   "execution_count": null,
   "id": "3f8cc7b4",
   "metadata": {},
   "outputs": [],
   "source": [
    "# Monthly revenue\n",
    "\n",
    "# the monthly revenue generated from their subscription\n"
   ]
  },
  {
   "cell_type": "code",
   "execution_count": 44,
   "id": "eedfa1f6",
   "metadata": {},
   "outputs": [
    {
     "data": {
      "text/plain": [
       "12    455\n",
       "14    431\n",
       "13    418\n",
       "10    409\n",
       "15    399\n",
       "11    388\n",
       "Name: monthly_revenue, dtype: int64"
      ]
     },
     "execution_count": 44,
     "metadata": {},
     "output_type": "execute_result"
    }
   ],
   "source": [
    "df['monthly_revenue'].value_counts()"
   ]
  },
  {
   "cell_type": "code",
   "execution_count": 46,
   "id": "42e2e7ad",
   "metadata": {},
   "outputs": [
    {
     "data": {
      "text/plain": [
       "12    0.1820\n",
       "14    0.1724\n",
       "13    0.1672\n",
       "10    0.1636\n",
       "15    0.1596\n",
       "11    0.1552\n",
       "Name: monthly_revenue, dtype: float64"
      ]
     },
     "execution_count": 46,
     "metadata": {},
     "output_type": "execute_result"
    }
   ],
   "source": [
    "df['monthly_revenue'].value_counts(normalize=True)"
   ]
  },
  {
   "cell_type": "code",
   "execution_count": 45,
   "id": "0165e1e6",
   "metadata": {},
   "outputs": [
    {
     "data": {
      "text/plain": [
       "Text(0, 0.5, '')"
      ]
     },
     "execution_count": 45,
     "metadata": {},
     "output_type": "execute_result"
    },
    {
     "data": {
      "image/png": "[encoded data removed]",
      "text/plain": [
       "<Figure size 864x576 with 1 Axes>"
      ]
     },
     "metadata": {},
     "output_type": "display_data"
    }
   ],
   "source": [
    "plt.figure(figsize=(12,8));\n",
    "\n",
    "services = df['monthly_revenue'].value_counts(normalize=True)\n",
    "services.plot(kind='pie')\n",
    "\n",
    "plt.title('monthly_revenue')\n",
    "plt.ylabel(\"\")"
   ]
  },
  {
   "cell_type": "code",
   "execution_count": null,
   "id": "1f2aa918",
   "metadata": {},
   "outputs": [],
   "source": [
    "# Period subscribed"
   ]
  },
  {
   "cell_type": "code",
   "execution_count": 52,
   "id": "7c062fbe",
   "metadata": {},
   "outputs": [
    {
     "data": {
      "text/html": [
       "<div>\n",
       "<style scoped>\n",
       "    .dataframe tbody tr th:only-of-type {\n",
       "        vertical-align: middle;\n",
       "    }\n",
       "\n",
       "    .dataframe tbody tr th {\n",
       "        vertical-align: top;\n",
       "    }\n",
       "\n",
       "    .dataframe thead th {\n",
       "        text-align: right;\n",
       "    }\n",
       "</style>\n",
       "<table border=\"1\" class=\"dataframe\">\n",
       "  <thead>\n",
       "    <tr style=\"text-align: right;\">\n",
       "      <th></th>\n",
       "      <th>user_id</th>\n",
       "      <th>subs_type</th>\n",
       "      <th>monthly_revenue</th>\n",
       "      <th>join_date</th>\n",
       "      <th>last_pay_date</th>\n",
       "      <th>Country</th>\n",
       "      <th>Age</th>\n",
       "      <th>Gender</th>\n",
       "      <th>Device</th>\n",
       "      <th>period</th>\n",
       "    </tr>\n",
       "  </thead>\n",
       "  <tbody>\n",
       "    <tr>\n",
       "      <th>20</th>\n",
       "      <td>21</td>\n",
       "      <td>Premium</td>\n",
       "      <td>15</td>\n",
       "      <td>2023-10-06</td>\n",
       "      <td>2023-06-22</td>\n",
       "      <td>United States</td>\n",
       "      <td>26</td>\n",
       "      <td>Female</td>\n",
       "      <td>Laptop</td>\n",
       "      <td>-106 days</td>\n",
       "    </tr>\n",
       "    <tr>\n",
       "      <th>2349</th>\n",
       "      <td>2350</td>\n",
       "      <td>Basic</td>\n",
       "      <td>12</td>\n",
       "      <td>2022-07-14</td>\n",
       "      <td>2023-07-13</td>\n",
       "      <td>United States</td>\n",
       "      <td>27</td>\n",
       "      <td>Female</td>\n",
       "      <td>Laptop</td>\n",
       "      <td>364 days</td>\n",
       "    </tr>\n",
       "    <tr>\n",
       "      <th>1734</th>\n",
       "      <td>1735</td>\n",
       "      <td>Premium</td>\n",
       "      <td>10</td>\n",
       "      <td>2022-08-27</td>\n",
       "      <td>2023-06-07</td>\n",
       "      <td>United States</td>\n",
       "      <td>27</td>\n",
       "      <td>Male</td>\n",
       "      <td>Smartphone</td>\n",
       "      <td>284 days</td>\n",
       "    </tr>\n",
       "    <tr>\n",
       "      <th>418</th>\n",
       "      <td>419</td>\n",
       "      <td>Standard</td>\n",
       "      <td>11</td>\n",
       "      <td>2022-10-30</td>\n",
       "      <td>2023-06-27</td>\n",
       "      <td>Spain</td>\n",
       "      <td>27</td>\n",
       "      <td>Female</td>\n",
       "      <td>Laptop</td>\n",
       "      <td>240 days</td>\n",
       "    </tr>\n",
       "    <tr>\n",
       "      <th>1732</th>\n",
       "      <td>1733</td>\n",
       "      <td>Basic</td>\n",
       "      <td>15</td>\n",
       "      <td>2022-08-16</td>\n",
       "      <td>2023-06-07</td>\n",
       "      <td>United States</td>\n",
       "      <td>27</td>\n",
       "      <td>Female</td>\n",
       "      <td>Tablet</td>\n",
       "      <td>295 days</td>\n",
       "    </tr>\n",
       "    <tr>\n",
       "      <th>...</th>\n",
       "      <td>...</td>\n",
       "      <td>...</td>\n",
       "      <td>...</td>\n",
       "      <td>...</td>\n",
       "      <td>...</td>\n",
       "      <td>...</td>\n",
       "      <td>...</td>\n",
       "      <td>...</td>\n",
       "      <td>...</td>\n",
       "      <td>...</td>\n",
       "    </tr>\n",
       "    <tr>\n",
       "      <th>1579</th>\n",
       "      <td>1580</td>\n",
       "      <td>Basic</td>\n",
       "      <td>15</td>\n",
       "      <td>2022-06-26</td>\n",
       "      <td>2023-08-07</td>\n",
       "      <td>Italy</td>\n",
       "      <td>51</td>\n",
       "      <td>Female</td>\n",
       "      <td>Smart TV</td>\n",
       "      <td>407 days</td>\n",
       "    </tr>\n",
       "    <tr>\n",
       "      <th>226</th>\n",
       "      <td>227</td>\n",
       "      <td>Premium</td>\n",
       "      <td>12</td>\n",
       "      <td>2022-09-30</td>\n",
       "      <td>2023-06-24</td>\n",
       "      <td>Brazil</td>\n",
       "      <td>51</td>\n",
       "      <td>Female</td>\n",
       "      <td>Smartphone</td>\n",
       "      <td>267 days</td>\n",
       "    </tr>\n",
       "    <tr>\n",
       "      <th>2366</th>\n",
       "      <td>2367</td>\n",
       "      <td>Basic</td>\n",
       "      <td>12</td>\n",
       "      <td>2022-09-17</td>\n",
       "      <td>2023-10-07</td>\n",
       "      <td>Canada</td>\n",
       "      <td>51</td>\n",
       "      <td>Male</td>\n",
       "      <td>Tablet</td>\n",
       "      <td>385 days</td>\n",
       "    </tr>\n",
       "    <tr>\n",
       "      <th>613</th>\n",
       "      <td>614</td>\n",
       "      <td>Basic</td>\n",
       "      <td>15</td>\n",
       "      <td>2022-08-14</td>\n",
       "      <td>2023-06-28</td>\n",
       "      <td>Australia</td>\n",
       "      <td>51</td>\n",
       "      <td>Male</td>\n",
       "      <td>Smartphone</td>\n",
       "      <td>318 days</td>\n",
       "    </tr>\n",
       "    <tr>\n",
       "      <th>1085</th>\n",
       "      <td>1086</td>\n",
       "      <td>Premium</td>\n",
       "      <td>15</td>\n",
       "      <td>2022-06-26</td>\n",
       "      <td>2023-01-07</td>\n",
       "      <td>Spain</td>\n",
       "      <td>51</td>\n",
       "      <td>Female</td>\n",
       "      <td>Tablet</td>\n",
       "      <td>195 days</td>\n",
       "    </tr>\n",
       "  </tbody>\n",
       "</table>\n",
       "<p>2500 rows × 10 columns</p>\n",
       "</div>"
      ],
      "text/plain": [
       "      user_id subs_type  monthly_revenue  join_date last_pay_date  \\\n",
       "20         21   Premium               15 2023-10-06    2023-06-22   \n",
       "2349     2350     Basic               12 2022-07-14    2023-07-13   \n",
       "1734     1735   Premium               10 2022-08-27    2023-06-07   \n",
       "418       419  Standard               11 2022-10-30    2023-06-27   \n",
       "1732     1733     Basic               15 2022-08-16    2023-06-07   \n",
       "...       ...       ...              ...        ...           ...   \n",
       "1579     1580     Basic               15 2022-06-26    2023-08-07   \n",
       "226       227   Premium               12 2022-09-30    2023-06-24   \n",
       "2366     2367     Basic               12 2022-09-17    2023-10-07   \n",
       "613       614     Basic               15 2022-08-14    2023-06-28   \n",
       "1085     1086   Premium               15 2022-06-26    2023-01-07   \n",
       "\n",
       "            Country  Age  Gender      Device    period  \n",
       "20    United States   26  Female      Laptop -106 days  \n",
       "2349  United States   27  Female      Laptop  364 days  \n",
       "1734  United States   27    Male  Smartphone  284 days  \n",
       "418           Spain   27  Female      Laptop  240 days  \n",
       "1732  United States   27  Female      Tablet  295 days  \n",
       "...             ...  ...     ...         ...       ...  \n",
       "1579          Italy   51  Female    Smart TV  407 days  \n",
       "226          Brazil   51  Female  Smartphone  267 days  \n",
       "2366         Canada   51    Male      Tablet  385 days  \n",
       "613       Australia   51    Male  Smartphone  318 days  \n",
       "1085          Spain   51  Female      Tablet  195 days  \n",
       "\n",
       "[2500 rows x 10 columns]"
      ]
     },
     "execution_count": 52,
     "metadata": {},
     "output_type": "execute_result"
    }
   ],
   "source": [
    "df['period'] = df['last_pay_date']-df['join_date']\n",
    "\n",
    "df.head(len(df))"
   ]
  },
  {
   "cell_type": "code",
   "execution_count": 55,
   "id": "da16d1a8",
   "metadata": {},
   "outputs": [
    {
     "name": "stdout",
     "output_type": "stream",
     "text": [
      "<class 'pandas.core.frame.DataFrame'>\n",
      "Int64Index: 2500 entries, 20 to 1085\n",
      "Data columns (total 10 columns):\n",
      " #   Column           Non-Null Count  Dtype          \n",
      "---  ------           --------------  -----          \n",
      " 0   user_id          2500 non-null   int64          \n",
      " 1   subs_type        2500 non-null   object         \n",
      " 2   monthly_revenue  2500 non-null   int64          \n",
      " 3   join_date        2500 non-null   datetime64[ns] \n",
      " 4   last_pay_date    2500 non-null   datetime64[ns] \n",
      " 5   Country          2500 non-null   object         \n",
      " 6   Age              2500 non-null   int64          \n",
      " 7   Gender           2500 non-null   object         \n",
      " 8   Device           2500 non-null   object         \n",
      " 9   period           2500 non-null   timedelta64[ns]\n",
      "dtypes: datetime64[ns](2), int64(3), object(4), timedelta64[ns](1)\n",
      "memory usage: 214.8+ KB\n"
     ]
    }
   ],
   "source": [
    "df.info()"
   ]
  },
  {
   "cell_type": "code",
   "execution_count": 58,
   "id": "86f50d96",
   "metadata": {},
   "outputs": [
    {
     "name": "stdout",
     "output_type": "stream",
     "text": [
      "user_id                     int64\n",
      "subs_type                  object\n",
      "monthly_revenue             int64\n",
      "join_date          datetime64[ns]\n",
      "last_pay_date      datetime64[ns]\n",
      "Country                    object\n",
      "Age                         int64\n",
      "Gender                     object\n",
      "Device                     object\n",
      "period                     object\n",
      "dtype: object\n"
     ]
    }
   ],
   "source": [
    "# Transforming datetime to string\n",
    "\n",
    "df = df.astype({'period':'str'})\n",
    "print(df.dtypes)"
   ]
  },
  {
   "cell_type": "code",
   "execution_count": 60,
   "id": "72d8aee3",
   "metadata": {},
   "outputs": [
    {
     "data": {
      "text/html": [
       "<div>\n",
       "<style scoped>\n",
       "    .dataframe tbody tr th:only-of-type {\n",
       "        vertical-align: middle;\n",
       "    }\n",
       "\n",
       "    .dataframe tbody tr th {\n",
       "        vertical-align: top;\n",
       "    }\n",
       "\n",
       "    .dataframe thead th {\n",
       "        text-align: right;\n",
       "    }\n",
       "</style>\n",
       "<table border=\"1\" class=\"dataframe\">\n",
       "  <thead>\n",
       "    <tr style=\"text-align: right;\">\n",
       "      <th></th>\n",
       "      <th>user_id</th>\n",
       "      <th>subs_type</th>\n",
       "      <th>monthly_revenue</th>\n",
       "      <th>join_date</th>\n",
       "      <th>last_pay_date</th>\n",
       "      <th>Country</th>\n",
       "      <th>Age</th>\n",
       "      <th>Gender</th>\n",
       "      <th>Device</th>\n",
       "      <th>period</th>\n",
       "      <th>days</th>\n",
       "    </tr>\n",
       "  </thead>\n",
       "  <tbody>\n",
       "    <tr>\n",
       "      <th>20</th>\n",
       "      <td>21</td>\n",
       "      <td>Premium</td>\n",
       "      <td>15</td>\n",
       "      <td>2023-10-06</td>\n",
       "      <td>2023-06-22</td>\n",
       "      <td>United States</td>\n",
       "      <td>26</td>\n",
       "      <td>Female</td>\n",
       "      <td>Laptop</td>\n",
       "      <td>-106</td>\n",
       "      <td>days</td>\n",
       "    </tr>\n",
       "    <tr>\n",
       "      <th>2349</th>\n",
       "      <td>2350</td>\n",
       "      <td>Basic</td>\n",
       "      <td>12</td>\n",
       "      <td>2022-07-14</td>\n",
       "      <td>2023-07-13</td>\n",
       "      <td>United States</td>\n",
       "      <td>27</td>\n",
       "      <td>Female</td>\n",
       "      <td>Laptop</td>\n",
       "      <td>364</td>\n",
       "      <td>days</td>\n",
       "    </tr>\n",
       "    <tr>\n",
       "      <th>1734</th>\n",
       "      <td>1735</td>\n",
       "      <td>Premium</td>\n",
       "      <td>10</td>\n",
       "      <td>2022-08-27</td>\n",
       "      <td>2023-06-07</td>\n",
       "      <td>United States</td>\n",
       "      <td>27</td>\n",
       "      <td>Male</td>\n",
       "      <td>Smartphone</td>\n",
       "      <td>284</td>\n",
       "      <td>days</td>\n",
       "    </tr>\n",
       "    <tr>\n",
       "      <th>418</th>\n",
       "      <td>419</td>\n",
       "      <td>Standard</td>\n",
       "      <td>11</td>\n",
       "      <td>2022-10-30</td>\n",
       "      <td>2023-06-27</td>\n",
       "      <td>Spain</td>\n",
       "      <td>27</td>\n",
       "      <td>Female</td>\n",
       "      <td>Laptop</td>\n",
       "      <td>240</td>\n",
       "      <td>days</td>\n",
       "    </tr>\n",
       "    <tr>\n",
       "      <th>1732</th>\n",
       "      <td>1733</td>\n",
       "      <td>Basic</td>\n",
       "      <td>15</td>\n",
       "      <td>2022-08-16</td>\n",
       "      <td>2023-06-07</td>\n",
       "      <td>United States</td>\n",
       "      <td>27</td>\n",
       "      <td>Female</td>\n",
       "      <td>Tablet</td>\n",
       "      <td>295</td>\n",
       "      <td>days</td>\n",
       "    </tr>\n",
       "    <tr>\n",
       "      <th>...</th>\n",
       "      <td>...</td>\n",
       "      <td>...</td>\n",
       "      <td>...</td>\n",
       "      <td>...</td>\n",
       "      <td>...</td>\n",
       "      <td>...</td>\n",
       "      <td>...</td>\n",
       "      <td>...</td>\n",
       "      <td>...</td>\n",
       "      <td>...</td>\n",
       "      <td>...</td>\n",
       "    </tr>\n",
       "    <tr>\n",
       "      <th>1579</th>\n",
       "      <td>1580</td>\n",
       "      <td>Basic</td>\n",
       "      <td>15</td>\n",
       "      <td>2022-06-26</td>\n",
       "      <td>2023-08-07</td>\n",
       "      <td>Italy</td>\n",
       "      <td>51</td>\n",
       "      <td>Female</td>\n",
       "      <td>Smart TV</td>\n",
       "      <td>407</td>\n",
       "      <td>days</td>\n",
       "    </tr>\n",
       "    <tr>\n",
       "      <th>226</th>\n",
       "      <td>227</td>\n",
       "      <td>Premium</td>\n",
       "      <td>12</td>\n",
       "      <td>2022-09-30</td>\n",
       "      <td>2023-06-24</td>\n",
       "      <td>Brazil</td>\n",
       "      <td>51</td>\n",
       "      <td>Female</td>\n",
       "      <td>Smartphone</td>\n",
       "      <td>267</td>\n",
       "      <td>days</td>\n",
       "    </tr>\n",
       "    <tr>\n",
       "      <th>2366</th>\n",
       "      <td>2367</td>\n",
       "      <td>Basic</td>\n",
       "      <td>12</td>\n",
       "      <td>2022-09-17</td>\n",
       "      <td>2023-10-07</td>\n",
       "      <td>Canada</td>\n",
       "      <td>51</td>\n",
       "      <td>Male</td>\n",
       "      <td>Tablet</td>\n",
       "      <td>385</td>\n",
       "      <td>days</td>\n",
       "    </tr>\n",
       "    <tr>\n",
       "      <th>613</th>\n",
       "      <td>614</td>\n",
       "      <td>Basic</td>\n",
       "      <td>15</td>\n",
       "      <td>2022-08-14</td>\n",
       "      <td>2023-06-28</td>\n",
       "      <td>Australia</td>\n",
       "      <td>51</td>\n",
       "      <td>Male</td>\n",
       "      <td>Smartphone</td>\n",
       "      <td>318</td>\n",
       "      <td>days</td>\n",
       "    </tr>\n",
       "    <tr>\n",
       "      <th>1085</th>\n",
       "      <td>1086</td>\n",
       "      <td>Premium</td>\n",
       "      <td>15</td>\n",
       "      <td>2022-06-26</td>\n",
       "      <td>2023-01-07</td>\n",
       "      <td>Spain</td>\n",
       "      <td>51</td>\n",
       "      <td>Female</td>\n",
       "      <td>Tablet</td>\n",
       "      <td>195</td>\n",
       "      <td>days</td>\n",
       "    </tr>\n",
       "  </tbody>\n",
       "</table>\n",
       "<p>2500 rows × 11 columns</p>\n",
       "</div>"
      ],
      "text/plain": [
       "      user_id subs_type  monthly_revenue  join_date last_pay_date  \\\n",
       "20         21   Premium               15 2023-10-06    2023-06-22   \n",
       "2349     2350     Basic               12 2022-07-14    2023-07-13   \n",
       "1734     1735   Premium               10 2022-08-27    2023-06-07   \n",
       "418       419  Standard               11 2022-10-30    2023-06-27   \n",
       "1732     1733     Basic               15 2022-08-16    2023-06-07   \n",
       "...       ...       ...              ...        ...           ...   \n",
       "1579     1580     Basic               15 2022-06-26    2023-08-07   \n",
       "226       227   Premium               12 2022-09-30    2023-06-24   \n",
       "2366     2367     Basic               12 2022-09-17    2023-10-07   \n",
       "613       614     Basic               15 2022-08-14    2023-06-28   \n",
       "1085     1086   Premium               15 2022-06-26    2023-01-07   \n",
       "\n",
       "            Country  Age  Gender      Device period  days  \n",
       "20    United States   26  Female      Laptop   -106  days  \n",
       "2349  United States   27  Female      Laptop    364  days  \n",
       "1734  United States   27    Male  Smartphone    284  days  \n",
       "418           Spain   27  Female      Laptop    240  days  \n",
       "1732  United States   27  Female      Tablet    295  days  \n",
       "...             ...  ...     ...         ...    ...   ...  \n",
       "1579          Italy   51  Female    Smart TV    407  days  \n",
       "226          Brazil   51  Female  Smartphone    267  days  \n",
       "2366         Canada   51    Male      Tablet    385  days  \n",
       "613       Australia   51    Male  Smartphone    318  days  \n",
       "1085          Spain   51  Female      Tablet    195  days  \n",
       "\n",
       "[2500 rows x 11 columns]"
      ]
     },
     "execution_count": 60,
     "metadata": {},
     "output_type": "execute_result"
    }
   ],
   "source": [
    "# Spliting duration column in two new columns, one for the number and other for the measurement unit\n",
    "df[['period', 'days']] = df['period'].str.split(' ', 1, expand=True)\n",
    "\n",
    "df.head(len(df))"
   ]
  },
  {
   "cell_type": "code",
   "execution_count": 61,
   "id": "ae0e960a",
   "metadata": {},
   "outputs": [
    {
     "name": "stdout",
     "output_type": "stream",
     "text": [
      "user_id                     int64\n",
      "subs_type                  object\n",
      "monthly_revenue             int64\n",
      "join_date          datetime64[ns]\n",
      "last_pay_date      datetime64[ns]\n",
      "Country                    object\n",
      "Age                         int64\n",
      "Gender                     object\n",
      "Device                     object\n",
      "period                      int64\n",
      "days                       object\n",
      "dtype: object\n"
     ]
    }
   ],
   "source": [
    "# Transforming object to int64\n",
    "\n",
    "df = df.astype({'period':'int64'})\n",
    "print(df.dtypes)"
   ]
  },
  {
   "cell_type": "code",
   "execution_count": 62,
   "id": "1b4d5dc6",
   "metadata": {},
   "outputs": [
    {
     "data": {
      "text/plain": [
       "array([[<AxesSubplot:title={'center':'period'}>]], dtype=object)"
      ]
     },
     "execution_count": 62,
     "metadata": {},
     "output_type": "execute_result"
    },
    {
     "data": {
      "image/png": "[encoded data removed]",
      "text/plain": [
       "<Figure size 432x288 with 1 Axes>"
      ]
     },
     "metadata": {
      "needs_background": "light"
     },
     "output_type": "display_data"
    }
   ],
   "source": [
    "df.hist(['period'], bins=40, grid=False)"
   ]
  }
 ],
 "metadata": {
  "kernelspec": {
   "display_name": "Python 3 (ipykernel)",
   "language": "python",
   "name": "python3"
  },
  "language_info": {
   "codemirror_mode": {
    "name": "ipython",
    "version": 3
   },
   "file_extension": ".py",
   "mimetype": "text/x-python",
   "name": "python",
   "nbconvert_exporter": "python",
   "pygments_lexer": "ipython3",
   "version": "3.9.12"
  }
 },
 "nbformat": 4,
 "nbformat_minor": 5
}
