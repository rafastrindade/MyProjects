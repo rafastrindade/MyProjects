{
 "cells": [
  {
   "cell_type": "code",
   "execution_count": 2,
   "id": "90cc51bd",
   "metadata": {},
   "outputs": [],
   "source": [
    "# Import libraries\n",
    "import numpy as np\n",
    "import pandas as pd\n",
    "import datetime\n",
    "import seaborn as sns\n",
    "import matplotlib.pyplot as plt"
   ]
  },
  {
   "cell_type": "code",
   "execution_count": 54,
   "id": "5596e8ae",
   "metadata": {},
   "outputs": [
    {
     "data": {
      "text/html": [
       "<style>.container { width:90% !important; }</style>"
      ],
      "text/plain": [
       "<IPython.core.display.HTML object>"
      ]
     },
     "metadata": {},
     "output_type": "display_data"
    }
   ],
   "source": [
    "# Widen jupyter notebook cells\n",
    "from IPython.display import display, HTML\n",
    "display(HTML(\"<style>.container { width:90% !important; }</style>\"))\n",
    "\n",
    "# Show all columns in the head command\n",
    "pd.set_option('display.max_columns', None)"
   ]
  },
  {
   "cell_type": "code",
   "execution_count": 67,
   "id": "65f320c6",
   "metadata": {},
   "outputs": [],
   "source": [
    "# Load data from the csv file into a DataFrame and save in a variable\n",
    "df = pd.read_csv(\"mxmh_survey_results.csv\")"
   ]
  },
  {
   "cell_type": "code",
   "execution_count": 68,
   "id": "2f6f73ec",
   "metadata": {
    "scrolled": true
   },
   "outputs": [
    {
     "data": {
      "text/html": [
       "<div>\n",
       "<style scoped>\n",
       "    .dataframe tbody tr th:only-of-type {\n",
       "        vertical-align: middle;\n",
       "    }\n",
       "\n",
       "    .dataframe tbody tr th {\n",
       "        vertical-align: top;\n",
       "    }\n",
       "\n",
       "    .dataframe thead th {\n",
       "        text-align: right;\n",
       "    }\n",
       "</style>\n",
       "<table border=\"1\" class=\"dataframe\">\n",
       "  <thead>\n",
       "    <tr style=\"text-align: right;\">\n",
       "      <th></th>\n",
       "      <th>Timestamp</th>\n",
       "      <th>Age</th>\n",
       "      <th>Primary streaming service</th>\n",
       "      <th>Hours per day</th>\n",
       "      <th>While working</th>\n",
       "      <th>Instrumentalist</th>\n",
       "      <th>Composer</th>\n",
       "      <th>Fav genre</th>\n",
       "      <th>Exploratory</th>\n",
       "      <th>Foreign languages</th>\n",
       "      <th>BPM</th>\n",
       "      <th>Frequency [Classical]</th>\n",
       "      <th>Frequency [Country]</th>\n",
       "      <th>Frequency [EDM]</th>\n",
       "      <th>Frequency [Folk]</th>\n",
       "      <th>Frequency [Gospel]</th>\n",
       "      <th>Frequency [Hip hop]</th>\n",
       "      <th>Frequency [Jazz]</th>\n",
       "      <th>Frequency [K pop]</th>\n",
       "      <th>Frequency [Latin]</th>\n",
       "      <th>Frequency [Lofi]</th>\n",
       "      <th>Frequency [Metal]</th>\n",
       "      <th>Frequency [Pop]</th>\n",
       "      <th>Frequency [R&amp;B]</th>\n",
       "      <th>Frequency [Rap]</th>\n",
       "      <th>Frequency [Rock]</th>\n",
       "      <th>Frequency [Video game music]</th>\n",
       "      <th>Anxiety</th>\n",
       "      <th>Depression</th>\n",
       "      <th>Insomnia</th>\n",
       "      <th>OCD</th>\n",
       "      <th>Music effects</th>\n",
       "      <th>Permissions</th>\n",
       "    </tr>\n",
       "  </thead>\n",
       "  <tbody>\n",
       "    <tr>\n",
       "      <th>0</th>\n",
       "      <td>8/27/2022 19:29:02</td>\n",
       "      <td>18.0</td>\n",
       "      <td>Spotify</td>\n",
       "      <td>3.0</td>\n",
       "      <td>Yes</td>\n",
       "      <td>Yes</td>\n",
       "      <td>Yes</td>\n",
       "      <td>Latin</td>\n",
       "      <td>Yes</td>\n",
       "      <td>Yes</td>\n",
       "      <td>156.0</td>\n",
       "      <td>Rarely</td>\n",
       "      <td>Never</td>\n",
       "      <td>Rarely</td>\n",
       "      <td>Never</td>\n",
       "      <td>Never</td>\n",
       "      <td>Sometimes</td>\n",
       "      <td>Never</td>\n",
       "      <td>Very frequently</td>\n",
       "      <td>Very frequently</td>\n",
       "      <td>Rarely</td>\n",
       "      <td>Never</td>\n",
       "      <td>Very frequently</td>\n",
       "      <td>Sometimes</td>\n",
       "      <td>Very frequently</td>\n",
       "      <td>Never</td>\n",
       "      <td>Sometimes</td>\n",
       "      <td>3.0</td>\n",
       "      <td>0.0</td>\n",
       "      <td>1.0</td>\n",
       "      <td>0.0</td>\n",
       "      <td>NaN</td>\n",
       "      <td>I understand.</td>\n",
       "    </tr>\n",
       "    <tr>\n",
       "      <th>1</th>\n",
       "      <td>8/27/2022 19:57:31</td>\n",
       "      <td>63.0</td>\n",
       "      <td>Pandora</td>\n",
       "      <td>1.5</td>\n",
       "      <td>Yes</td>\n",
       "      <td>No</td>\n",
       "      <td>No</td>\n",
       "      <td>Rock</td>\n",
       "      <td>Yes</td>\n",
       "      <td>No</td>\n",
       "      <td>119.0</td>\n",
       "      <td>Sometimes</td>\n",
       "      <td>Never</td>\n",
       "      <td>Never</td>\n",
       "      <td>Rarely</td>\n",
       "      <td>Sometimes</td>\n",
       "      <td>Rarely</td>\n",
       "      <td>Very frequently</td>\n",
       "      <td>Rarely</td>\n",
       "      <td>Sometimes</td>\n",
       "      <td>Rarely</td>\n",
       "      <td>Never</td>\n",
       "      <td>Sometimes</td>\n",
       "      <td>Sometimes</td>\n",
       "      <td>Rarely</td>\n",
       "      <td>Very frequently</td>\n",
       "      <td>Rarely</td>\n",
       "      <td>7.0</td>\n",
       "      <td>2.0</td>\n",
       "      <td>2.0</td>\n",
       "      <td>1.0</td>\n",
       "      <td>NaN</td>\n",
       "      <td>I understand.</td>\n",
       "    </tr>\n",
       "    <tr>\n",
       "      <th>2</th>\n",
       "      <td>8/27/2022 21:28:18</td>\n",
       "      <td>18.0</td>\n",
       "      <td>Spotify</td>\n",
       "      <td>4.0</td>\n",
       "      <td>No</td>\n",
       "      <td>No</td>\n",
       "      <td>No</td>\n",
       "      <td>Video game music</td>\n",
       "      <td>No</td>\n",
       "      <td>Yes</td>\n",
       "      <td>132.0</td>\n",
       "      <td>Never</td>\n",
       "      <td>Never</td>\n",
       "      <td>Very frequently</td>\n",
       "      <td>Never</td>\n",
       "      <td>Never</td>\n",
       "      <td>Rarely</td>\n",
       "      <td>Rarely</td>\n",
       "      <td>Very frequently</td>\n",
       "      <td>Never</td>\n",
       "      <td>Sometimes</td>\n",
       "      <td>Sometimes</td>\n",
       "      <td>Rarely</td>\n",
       "      <td>Never</td>\n",
       "      <td>Rarely</td>\n",
       "      <td>Rarely</td>\n",
       "      <td>Very frequently</td>\n",
       "      <td>7.0</td>\n",
       "      <td>7.0</td>\n",
       "      <td>10.0</td>\n",
       "      <td>2.0</td>\n",
       "      <td>No effect</td>\n",
       "      <td>I understand.</td>\n",
       "    </tr>\n",
       "    <tr>\n",
       "      <th>3</th>\n",
       "      <td>8/27/2022 21:40:40</td>\n",
       "      <td>61.0</td>\n",
       "      <td>YouTube Music</td>\n",
       "      <td>2.5</td>\n",
       "      <td>Yes</td>\n",
       "      <td>No</td>\n",
       "      <td>Yes</td>\n",
       "      <td>Jazz</td>\n",
       "      <td>Yes</td>\n",
       "      <td>Yes</td>\n",
       "      <td>84.0</td>\n",
       "      <td>Sometimes</td>\n",
       "      <td>Never</td>\n",
       "      <td>Never</td>\n",
       "      <td>Rarely</td>\n",
       "      <td>Sometimes</td>\n",
       "      <td>Never</td>\n",
       "      <td>Very frequently</td>\n",
       "      <td>Sometimes</td>\n",
       "      <td>Very frequently</td>\n",
       "      <td>Sometimes</td>\n",
       "      <td>Never</td>\n",
       "      <td>Sometimes</td>\n",
       "      <td>Sometimes</td>\n",
       "      <td>Never</td>\n",
       "      <td>Never</td>\n",
       "      <td>Never</td>\n",
       "      <td>9.0</td>\n",
       "      <td>7.0</td>\n",
       "      <td>3.0</td>\n",
       "      <td>3.0</td>\n",
       "      <td>Improve</td>\n",
       "      <td>I understand.</td>\n",
       "    </tr>\n",
       "    <tr>\n",
       "      <th>4</th>\n",
       "      <td>8/27/2022 21:54:47</td>\n",
       "      <td>18.0</td>\n",
       "      <td>Spotify</td>\n",
       "      <td>4.0</td>\n",
       "      <td>Yes</td>\n",
       "      <td>No</td>\n",
       "      <td>No</td>\n",
       "      <td>R&amp;B</td>\n",
       "      <td>Yes</td>\n",
       "      <td>No</td>\n",
       "      <td>107.0</td>\n",
       "      <td>Never</td>\n",
       "      <td>Never</td>\n",
       "      <td>Rarely</td>\n",
       "      <td>Never</td>\n",
       "      <td>Rarely</td>\n",
       "      <td>Very frequently</td>\n",
       "      <td>Never</td>\n",
       "      <td>Very frequently</td>\n",
       "      <td>Sometimes</td>\n",
       "      <td>Sometimes</td>\n",
       "      <td>Never</td>\n",
       "      <td>Sometimes</td>\n",
       "      <td>Very frequently</td>\n",
       "      <td>Very frequently</td>\n",
       "      <td>Never</td>\n",
       "      <td>Rarely</td>\n",
       "      <td>7.0</td>\n",
       "      <td>2.0</td>\n",
       "      <td>5.0</td>\n",
       "      <td>9.0</td>\n",
       "      <td>Improve</td>\n",
       "      <td>I understand.</td>\n",
       "    </tr>\n",
       "  </tbody>\n",
       "</table>\n",
       "</div>"
      ],
      "text/plain": [
       "            Timestamp   Age Primary streaming service  Hours per day  \\\n",
       "0  8/27/2022 19:29:02  18.0                   Spotify            3.0   \n",
       "1  8/27/2022 19:57:31  63.0                   Pandora            1.5   \n",
       "2  8/27/2022 21:28:18  18.0                   Spotify            4.0   \n",
       "3  8/27/2022 21:40:40  61.0             YouTube Music            2.5   \n",
       "4  8/27/2022 21:54:47  18.0                   Spotify            4.0   \n",
       "\n",
       "  While working Instrumentalist Composer         Fav genre Exploratory  \\\n",
       "0           Yes             Yes      Yes             Latin         Yes   \n",
       "1           Yes              No       No              Rock         Yes   \n",
       "2            No              No       No  Video game music          No   \n",
       "3           Yes              No      Yes              Jazz         Yes   \n",
       "4           Yes              No       No               R&B         Yes   \n",
       "\n",
       "  Foreign languages    BPM Frequency [Classical] Frequency [Country]  \\\n",
       "0               Yes  156.0                Rarely               Never   \n",
       "1                No  119.0             Sometimes               Never   \n",
       "2               Yes  132.0                 Never               Never   \n",
       "3               Yes   84.0             Sometimes               Never   \n",
       "4                No  107.0                 Never               Never   \n",
       "\n",
       "   Frequency [EDM] Frequency [Folk] Frequency [Gospel] Frequency [Hip hop]  \\\n",
       "0           Rarely            Never              Never           Sometimes   \n",
       "1            Never           Rarely          Sometimes              Rarely   \n",
       "2  Very frequently            Never              Never              Rarely   \n",
       "3            Never           Rarely          Sometimes               Never   \n",
       "4           Rarely            Never             Rarely     Very frequently   \n",
       "\n",
       "  Frequency [Jazz] Frequency [K pop] Frequency [Latin] Frequency [Lofi]  \\\n",
       "0            Never   Very frequently   Very frequently           Rarely   \n",
       "1  Very frequently            Rarely         Sometimes           Rarely   \n",
       "2           Rarely   Very frequently             Never        Sometimes   \n",
       "3  Very frequently         Sometimes   Very frequently        Sometimes   \n",
       "4            Never   Very frequently         Sometimes        Sometimes   \n",
       "\n",
       "  Frequency [Metal]  Frequency [Pop]  Frequency [R&B]  Frequency [Rap]  \\\n",
       "0             Never  Very frequently        Sometimes  Very frequently   \n",
       "1             Never        Sometimes        Sometimes           Rarely   \n",
       "2         Sometimes           Rarely            Never           Rarely   \n",
       "3             Never        Sometimes        Sometimes            Never   \n",
       "4             Never        Sometimes  Very frequently  Very frequently   \n",
       "\n",
       "  Frequency [Rock] Frequency [Video game music]  Anxiety  Depression  \\\n",
       "0            Never                    Sometimes      3.0         0.0   \n",
       "1  Very frequently                       Rarely      7.0         2.0   \n",
       "2           Rarely              Very frequently      7.0         7.0   \n",
       "3            Never                        Never      9.0         7.0   \n",
       "4            Never                       Rarely      7.0         2.0   \n",
       "\n",
       "   Insomnia  OCD Music effects    Permissions  \n",
       "0       1.0  0.0           NaN  I understand.  \n",
       "1       2.0  1.0           NaN  I understand.  \n",
       "2      10.0  2.0     No effect  I understand.  \n",
       "3       3.0  3.0       Improve  I understand.  \n",
       "4       5.0  9.0       Improve  I understand.  "
      ]
     },
     "execution_count": 68,
     "metadata": {},
     "output_type": "execute_result"
    }
   ],
   "source": [
    "#Print first 5 rows\n",
    "df.head(5)"
   ]
  },
  {
   "cell_type": "code",
   "execution_count": 69,
   "id": "ecf8d374",
   "metadata": {},
   "outputs": [
    {
     "data": {
      "text/plain": [
       "(736, 33)"
      ]
     },
     "execution_count": 69,
     "metadata": {},
     "output_type": "execute_result"
    }
   ],
   "source": [
    "df.shape"
   ]
  },
  {
   "cell_type": "code",
   "execution_count": 70,
   "id": "f7e2153b",
   "metadata": {},
   "outputs": [
    {
     "data": {
      "text/html": [
       "<div>\n",
       "<style scoped>\n",
       "    .dataframe tbody tr th:only-of-type {\n",
       "        vertical-align: middle;\n",
       "    }\n",
       "\n",
       "    .dataframe tbody tr th {\n",
       "        vertical-align: top;\n",
       "    }\n",
       "\n",
       "    .dataframe thead th {\n",
       "        text-align: right;\n",
       "    }\n",
       "</style>\n",
       "<table border=\"1\" class=\"dataframe\">\n",
       "  <thead>\n",
       "    <tr style=\"text-align: right;\">\n",
       "      <th></th>\n",
       "      <th>date</th>\n",
       "      <th>age</th>\n",
       "      <th>streaming_service</th>\n",
       "      <th>hours_per_day</th>\n",
       "      <th>while_working</th>\n",
       "      <th>Instrumentalist</th>\n",
       "      <th>Composer</th>\n",
       "      <th>favorite_genre</th>\n",
       "      <th>Exploratory</th>\n",
       "      <th>foreign_languages</th>\n",
       "      <th>BPM</th>\n",
       "      <th>fq_classical</th>\n",
       "      <th>fq_country</th>\n",
       "      <th>fq_edm</th>\n",
       "      <th>fq_folk</th>\n",
       "      <th>fq_gospel</th>\n",
       "      <th>fq_hip_hop</th>\n",
       "      <th>fq_jazz</th>\n",
       "      <th>fq_k_pop</th>\n",
       "      <th>fq_latin</th>\n",
       "      <th>fq_lofi</th>\n",
       "      <th>fq_metal</th>\n",
       "      <th>fq_pop</th>\n",
       "      <th>fq_r&amp;B</th>\n",
       "      <th>fq_rap</th>\n",
       "      <th>fq_rock</th>\n",
       "      <th>fq_video_game_music</th>\n",
       "      <th>Anxiety</th>\n",
       "      <th>Depression</th>\n",
       "      <th>Insomnia</th>\n",
       "      <th>OCD</th>\n",
       "      <th>music_effects</th>\n",
       "      <th>Permissions</th>\n",
       "    </tr>\n",
       "  </thead>\n",
       "  <tbody>\n",
       "    <tr>\n",
       "      <th>0</th>\n",
       "      <td>8/27/2022 19:29:02</td>\n",
       "      <td>18.0</td>\n",
       "      <td>Spotify</td>\n",
       "      <td>3.0</td>\n",
       "      <td>Yes</td>\n",
       "      <td>Yes</td>\n",
       "      <td>Yes</td>\n",
       "      <td>Latin</td>\n",
       "      <td>Yes</td>\n",
       "      <td>Yes</td>\n",
       "      <td>156.0</td>\n",
       "      <td>Rarely</td>\n",
       "      <td>Never</td>\n",
       "      <td>Rarely</td>\n",
       "      <td>Never</td>\n",
       "      <td>Never</td>\n",
       "      <td>Sometimes</td>\n",
       "      <td>Never</td>\n",
       "      <td>Very frequently</td>\n",
       "      <td>Very frequently</td>\n",
       "      <td>Rarely</td>\n",
       "      <td>Never</td>\n",
       "      <td>Very frequently</td>\n",
       "      <td>Sometimes</td>\n",
       "      <td>Very frequently</td>\n",
       "      <td>Never</td>\n",
       "      <td>Sometimes</td>\n",
       "      <td>3.0</td>\n",
       "      <td>0.0</td>\n",
       "      <td>1.0</td>\n",
       "      <td>0.0</td>\n",
       "      <td>NaN</td>\n",
       "      <td>I understand.</td>\n",
       "    </tr>\n",
       "    <tr>\n",
       "      <th>1</th>\n",
       "      <td>8/27/2022 19:57:31</td>\n",
       "      <td>63.0</td>\n",
       "      <td>Pandora</td>\n",
       "      <td>1.5</td>\n",
       "      <td>Yes</td>\n",
       "      <td>No</td>\n",
       "      <td>No</td>\n",
       "      <td>Rock</td>\n",
       "      <td>Yes</td>\n",
       "      <td>No</td>\n",
       "      <td>119.0</td>\n",
       "      <td>Sometimes</td>\n",
       "      <td>Never</td>\n",
       "      <td>Never</td>\n",
       "      <td>Rarely</td>\n",
       "      <td>Sometimes</td>\n",
       "      <td>Rarely</td>\n",
       "      <td>Very frequently</td>\n",
       "      <td>Rarely</td>\n",
       "      <td>Sometimes</td>\n",
       "      <td>Rarely</td>\n",
       "      <td>Never</td>\n",
       "      <td>Sometimes</td>\n",
       "      <td>Sometimes</td>\n",
       "      <td>Rarely</td>\n",
       "      <td>Very frequently</td>\n",
       "      <td>Rarely</td>\n",
       "      <td>7.0</td>\n",
       "      <td>2.0</td>\n",
       "      <td>2.0</td>\n",
       "      <td>1.0</td>\n",
       "      <td>NaN</td>\n",
       "      <td>I understand.</td>\n",
       "    </tr>\n",
       "    <tr>\n",
       "      <th>2</th>\n",
       "      <td>8/27/2022 21:28:18</td>\n",
       "      <td>18.0</td>\n",
       "      <td>Spotify</td>\n",
       "      <td>4.0</td>\n",
       "      <td>No</td>\n",
       "      <td>No</td>\n",
       "      <td>No</td>\n",
       "      <td>Video game music</td>\n",
       "      <td>No</td>\n",
       "      <td>Yes</td>\n",
       "      <td>132.0</td>\n",
       "      <td>Never</td>\n",
       "      <td>Never</td>\n",
       "      <td>Very frequently</td>\n",
       "      <td>Never</td>\n",
       "      <td>Never</td>\n",
       "      <td>Rarely</td>\n",
       "      <td>Rarely</td>\n",
       "      <td>Very frequently</td>\n",
       "      <td>Never</td>\n",
       "      <td>Sometimes</td>\n",
       "      <td>Sometimes</td>\n",
       "      <td>Rarely</td>\n",
       "      <td>Never</td>\n",
       "      <td>Rarely</td>\n",
       "      <td>Rarely</td>\n",
       "      <td>Very frequently</td>\n",
       "      <td>7.0</td>\n",
       "      <td>7.0</td>\n",
       "      <td>10.0</td>\n",
       "      <td>2.0</td>\n",
       "      <td>No effect</td>\n",
       "      <td>I understand.</td>\n",
       "    </tr>\n",
       "    <tr>\n",
       "      <th>3</th>\n",
       "      <td>8/27/2022 21:40:40</td>\n",
       "      <td>61.0</td>\n",
       "      <td>YouTube Music</td>\n",
       "      <td>2.5</td>\n",
       "      <td>Yes</td>\n",
       "      <td>No</td>\n",
       "      <td>Yes</td>\n",
       "      <td>Jazz</td>\n",
       "      <td>Yes</td>\n",
       "      <td>Yes</td>\n",
       "      <td>84.0</td>\n",
       "      <td>Sometimes</td>\n",
       "      <td>Never</td>\n",
       "      <td>Never</td>\n",
       "      <td>Rarely</td>\n",
       "      <td>Sometimes</td>\n",
       "      <td>Never</td>\n",
       "      <td>Very frequently</td>\n",
       "      <td>Sometimes</td>\n",
       "      <td>Very frequently</td>\n",
       "      <td>Sometimes</td>\n",
       "      <td>Never</td>\n",
       "      <td>Sometimes</td>\n",
       "      <td>Sometimes</td>\n",
       "      <td>Never</td>\n",
       "      <td>Never</td>\n",
       "      <td>Never</td>\n",
       "      <td>9.0</td>\n",
       "      <td>7.0</td>\n",
       "      <td>3.0</td>\n",
       "      <td>3.0</td>\n",
       "      <td>Improve</td>\n",
       "      <td>I understand.</td>\n",
       "    </tr>\n",
       "    <tr>\n",
       "      <th>4</th>\n",
       "      <td>8/27/2022 21:54:47</td>\n",
       "      <td>18.0</td>\n",
       "      <td>Spotify</td>\n",
       "      <td>4.0</td>\n",
       "      <td>Yes</td>\n",
       "      <td>No</td>\n",
       "      <td>No</td>\n",
       "      <td>R&amp;B</td>\n",
       "      <td>Yes</td>\n",
       "      <td>No</td>\n",
       "      <td>107.0</td>\n",
       "      <td>Never</td>\n",
       "      <td>Never</td>\n",
       "      <td>Rarely</td>\n",
       "      <td>Never</td>\n",
       "      <td>Rarely</td>\n",
       "      <td>Very frequently</td>\n",
       "      <td>Never</td>\n",
       "      <td>Very frequently</td>\n",
       "      <td>Sometimes</td>\n",
       "      <td>Sometimes</td>\n",
       "      <td>Never</td>\n",
       "      <td>Sometimes</td>\n",
       "      <td>Very frequently</td>\n",
       "      <td>Very frequently</td>\n",
       "      <td>Never</td>\n",
       "      <td>Rarely</td>\n",
       "      <td>7.0</td>\n",
       "      <td>2.0</td>\n",
       "      <td>5.0</td>\n",
       "      <td>9.0</td>\n",
       "      <td>Improve</td>\n",
       "      <td>I understand.</td>\n",
       "    </tr>\n",
       "  </tbody>\n",
       "</table>\n",
       "</div>"
      ],
      "text/plain": [
       "                 date   age streaming_service  hours_per_day while_working  \\\n",
       "0  8/27/2022 19:29:02  18.0           Spotify            3.0           Yes   \n",
       "1  8/27/2022 19:57:31  63.0           Pandora            1.5           Yes   \n",
       "2  8/27/2022 21:28:18  18.0           Spotify            4.0            No   \n",
       "3  8/27/2022 21:40:40  61.0     YouTube Music            2.5           Yes   \n",
       "4  8/27/2022 21:54:47  18.0           Spotify            4.0           Yes   \n",
       "\n",
       "  Instrumentalist Composer    favorite_genre Exploratory foreign_languages  \\\n",
       "0             Yes      Yes             Latin         Yes               Yes   \n",
       "1              No       No              Rock         Yes                No   \n",
       "2              No       No  Video game music          No               Yes   \n",
       "3              No      Yes              Jazz         Yes               Yes   \n",
       "4              No       No               R&B         Yes                No   \n",
       "\n",
       "     BPM fq_classical fq_country           fq_edm fq_folk  fq_gospel  \\\n",
       "0  156.0       Rarely      Never           Rarely   Never      Never   \n",
       "1  119.0    Sometimes      Never            Never  Rarely  Sometimes   \n",
       "2  132.0        Never      Never  Very frequently   Never      Never   \n",
       "3   84.0    Sometimes      Never            Never  Rarely  Sometimes   \n",
       "4  107.0        Never      Never           Rarely   Never     Rarely   \n",
       "\n",
       "        fq_hip_hop          fq_jazz         fq_k_pop         fq_latin  \\\n",
       "0        Sometimes            Never  Very frequently  Very frequently   \n",
       "1           Rarely  Very frequently           Rarely        Sometimes   \n",
       "2           Rarely           Rarely  Very frequently            Never   \n",
       "3            Never  Very frequently        Sometimes  Very frequently   \n",
       "4  Very frequently            Never  Very frequently        Sometimes   \n",
       "\n",
       "     fq_lofi   fq_metal           fq_pop           fq_r&B           fq_rap  \\\n",
       "0     Rarely      Never  Very frequently        Sometimes  Very frequently   \n",
       "1     Rarely      Never        Sometimes        Sometimes           Rarely   \n",
       "2  Sometimes  Sometimes           Rarely            Never           Rarely   \n",
       "3  Sometimes      Never        Sometimes        Sometimes            Never   \n",
       "4  Sometimes      Never        Sometimes  Very frequently  Very frequently   \n",
       "\n",
       "           fq_rock fq_video_game_music  Anxiety  Depression  Insomnia  OCD  \\\n",
       "0            Never           Sometimes      3.0         0.0       1.0  0.0   \n",
       "1  Very frequently              Rarely      7.0         2.0       2.0  1.0   \n",
       "2           Rarely     Very frequently      7.0         7.0      10.0  2.0   \n",
       "3            Never               Never      9.0         7.0       3.0  3.0   \n",
       "4            Never              Rarely      7.0         2.0       5.0  9.0   \n",
       "\n",
       "  music_effects    Permissions  \n",
       "0           NaN  I understand.  \n",
       "1           NaN  I understand.  \n",
       "2     No effect  I understand.  \n",
       "3       Improve  I understand.  \n",
       "4       Improve  I understand.  "
      ]
     },
     "execution_count": 70,
     "metadata": {},
     "output_type": "execute_result"
    }
   ],
   "source": [
    "#Print first 5 rows\n",
    "df.rename(columns={\"Timestamp\": \"date\",\n",
    "                   \"Age\": \"age\",\n",
    "                   \"Primary streaming service\": \"streaming_service\",\n",
    "                   \"Hours per day\": \"hours_per_day\",\n",
    "                   \"While working\": \"while_working\",\n",
    "                   \"Fav genre\": \"favorite_genre\",\n",
    "                   \"Foreign languages\": \"foreign_languages\",\n",
    "                   \"Music effects\": \"music_effects\",\n",
    "                   \"Frequency [Classical]\": \"fq_classical\",\n",
    "                   \"Frequency [Country]\": \"fq_country\",\n",
    "                   \"Frequency [EDM]\": \"fq_edm\",\n",
    "                   \"Frequency [Folk]\": \"fq_folk\",\n",
    "                   \"Frequency [Gospel]\": \"fq_gospel\",\n",
    "                   \"Frequency [Hip hop]\": \"fq_hip_hop\",\n",
    "                   \"Frequency [Jazz]\": \"fq_jazz\",\n",
    "                   \"Frequency [K pop]\": \"fq_k_pop\",\n",
    "                   \"Frequency [Latin]\": \"fq_latin\",\n",
    "                   \"Frequency [Lofi]\": \"fq_lofi\",\n",
    "                   \"Frequency [Metal]\": \"fq_metal\",\n",
    "                   \"Frequency [Pop]\": \"fq_pop\",\n",
    "                   \"Frequency [R&B]\": \"fq_r&B\",\n",
    "                   \"Frequency [Rap]\": \"fq_rap\",\n",
    "                   \"Frequency [Rock]\": \"fq_rock\",\n",
    "                   \"Frequency [Video game music]\": \"fq_video_game_music\"}, inplace=True)\n",
    "df.head()"
   ]
  },
  {
   "cell_type": "code",
   "execution_count": 71,
   "id": "80fb83d6",
   "metadata": {},
   "outputs": [
    {
     "data": {
      "text/plain": [
       "Index(['date', 'age', 'streaming_service', 'hours_per_day', 'while_working',\n",
       "       'Instrumentalist', 'Composer', 'favorite_genre', 'Exploratory',\n",
       "       'foreign_languages', 'BPM', 'fq_classical', 'fq_country', 'fq_edm',\n",
       "       'fq_folk', 'fq_gospel', 'fq_hip_hop', 'fq_jazz', 'fq_k_pop', 'fq_latin',\n",
       "       'fq_lofi', 'fq_metal', 'fq_pop', 'fq_r&B', 'fq_rap', 'fq_rock',\n",
       "       'fq_video_game_music', 'Anxiety', 'Depression', 'Insomnia', 'OCD',\n",
       "       'music_effects', 'Permissions'],\n",
       "      dtype='object')"
      ]
     },
     "execution_count": 71,
     "metadata": {},
     "output_type": "execute_result"
    }
   ],
   "source": [
    "df.columns"
   ]
  },
  {
   "cell_type": "code",
   "execution_count": null,
   "id": "4c72fa8c",
   "metadata": {},
   "outputs": [],
   "source": [
    "# Timestamp: Date and time when form was submitted\n",
    "# Age: Respondent's age\n",
    "# Primary streaming service: Respondent's primary streaming service\n",
    "# Hours per day: Number of hours the respondent listens to music per day\n",
    "# While working: Does the respondent listen to music while studying/working?\n",
    "# Instrumentalist: Does the respondent play an instrument regularly?\n",
    "# Composer: Does the respondent compose music?\n",
    "# Fav genre: Respondent's favorite or top genre\n",
    "# Exploratory: Does the respondent actively explore new artists/genres?\n",
    "# Foreign languages: Does the respondent regularly listen to music with lyrics in a language they are not fluent in?\n",
    "# BPM: Beats per minute of favorite genre\n",
    "# Frequency [Classical]: How frequently the respondent listens to classical music\n",
    "# Frequency [Music types]: How frequently the respondent listens to country, EDM (eletronic dance music), Folk, Gospel, Hip Hop, Jazz, K pop, Latin, Lofi, Metal, Pop, R&B, Rap, Rock or Video game music.\n",
    "# Anxiety: Self-reported anxiety, on a scale of 0-10.\n",
    "# Depression: Self-reported depression, on a scale of 0-10.\n",
    "# Insomnia: Self-reported insomnia, on a scale of 0-10.\n",
    "# OCD: Self-reported OCD, on a scale of 0-10.\n",
    "# Music effects: Does music improve/worsen respondent's mental health conditions?.\n",
    "# Permissions: Permissions to publicize data.\n"
   ]
  },
  {
   "cell_type": "code",
   "execution_count": 72,
   "id": "85c085d8",
   "metadata": {
    "scrolled": true
   },
   "outputs": [
    {
     "name": "stdout",
     "output_type": "stream",
     "text": [
      "<class 'pandas.core.frame.DataFrame'>\n",
      "RangeIndex: 736 entries, 0 to 735\n",
      "Data columns (total 33 columns):\n",
      " #   Column               Non-Null Count  Dtype  \n",
      "---  ------               --------------  -----  \n",
      " 0   date                 736 non-null    object \n",
      " 1   age                  735 non-null    float64\n",
      " 2   streaming_service    735 non-null    object \n",
      " 3   hours_per_day        736 non-null    float64\n",
      " 4   while_working        733 non-null    object \n",
      " 5   Instrumentalist      732 non-null    object \n",
      " 6   Composer             735 non-null    object \n",
      " 7   favorite_genre       736 non-null    object \n",
      " 8   Exploratory          736 non-null    object \n",
      " 9   foreign_languages    732 non-null    object \n",
      " 10  BPM                  629 non-null    float64\n",
      " 11  fq_classical         736 non-null    object \n",
      " 12  fq_country           736 non-null    object \n",
      " 13  fq_edm               736 non-null    object \n",
      " 14  fq_folk              736 non-null    object \n",
      " 15  fq_gospel            736 non-null    object \n",
      " 16  fq_hip_hop           736 non-null    object \n",
      " 17  fq_jazz              736 non-null    object \n",
      " 18  fq_k_pop             736 non-null    object \n",
      " 19  fq_latin             736 non-null    object \n",
      " 20  fq_lofi              736 non-null    object \n",
      " 21  fq_metal             736 non-null    object \n",
      " 22  fq_pop               736 non-null    object \n",
      " 23  fq_r&B               736 non-null    object \n",
      " 24  fq_rap               736 non-null    object \n",
      " 25  fq_rock              736 non-null    object \n",
      " 26  fq_video_game_music  736 non-null    object \n",
      " 27  Anxiety              736 non-null    float64\n",
      " 28  Depression           736 non-null    float64\n",
      " 29  Insomnia             736 non-null    float64\n",
      " 30  OCD                  736 non-null    float64\n",
      " 31  music_effects        728 non-null    object \n",
      " 32  Permissions          736 non-null    object \n",
      "dtypes: float64(7), object(26)\n",
      "memory usage: 189.9+ KB\n"
     ]
    }
   ],
   "source": [
    "# Informations on the dataset\n",
    "df.info()"
   ]
  },
  {
   "cell_type": "code",
   "execution_count": 74,
   "id": "0ef82427",
   "metadata": {},
   "outputs": [],
   "source": [
    "# Convert the `date` column to datetime\n",
    "df['date'] = pd.to_datetime(df['date'])"
   ]
  },
  {
   "cell_type": "code",
   "execution_count": 77,
   "id": "17432b44",
   "metadata": {},
   "outputs": [
    {
     "data": {
      "text/plain": [
       "date                   False\n",
       "age                    False\n",
       "streaming_service      False\n",
       "hours_per_day          False\n",
       "while_working          False\n",
       "Instrumentalist        False\n",
       "Composer               False\n",
       "favorite_genre         False\n",
       "Exploratory            False\n",
       "foreign_languages      False\n",
       "BPM                     True\n",
       "fq_classical           False\n",
       "fq_country             False\n",
       "fq_edm                 False\n",
       "fq_folk                False\n",
       "fq_gospel              False\n",
       "fq_hip_hop             False\n",
       "fq_jazz                False\n",
       "fq_k_pop               False\n",
       "fq_latin               False\n",
       "fq_lofi                False\n",
       "fq_metal               False\n",
       "fq_pop                 False\n",
       "fq_r&B                 False\n",
       "fq_rap                 False\n",
       "fq_rock                False\n",
       "fq_video_game_music    False\n",
       "Anxiety                False\n",
       "Depression             False\n",
       "Insomnia               False\n",
       "OCD                    False\n",
       "music_effects           True\n",
       "Permissions            False\n",
       "dtype: bool"
      ]
     },
     "execution_count": 77,
     "metadata": {},
     "output_type": "execute_result"
    }
   ],
   "source": [
    "# Dealing with missing data\n",
    "df.isnull().any()"
   ]
  },
  {
   "cell_type": "code",
   "execution_count": 41,
   "id": "2f70484b",
   "metadata": {
    "scrolled": false
   },
   "outputs": [
    {
     "data": {
      "text/html": [
       "<div>\n",
       "<style scoped>\n",
       "    .dataframe tbody tr th:only-of-type {\n",
       "        vertical-align: middle;\n",
       "    }\n",
       "\n",
       "    .dataframe tbody tr th {\n",
       "        vertical-align: top;\n",
       "    }\n",
       "\n",
       "    .dataframe thead th {\n",
       "        text-align: right;\n",
       "    }\n",
       "</style>\n",
       "<table border=\"1\" class=\"dataframe\">\n",
       "  <thead>\n",
       "    <tr style=\"text-align: right;\">\n",
       "      <th></th>\n",
       "      <th>date</th>\n",
       "      <th>age</th>\n",
       "      <th>streaming_service</th>\n",
       "      <th>hours_per_day</th>\n",
       "      <th>while_working</th>\n",
       "      <th>Instrumentalist</th>\n",
       "      <th>Composer</th>\n",
       "      <th>favorite_genre</th>\n",
       "      <th>Exploratory</th>\n",
       "      <th>foreign_languages</th>\n",
       "      <th>BPM</th>\n",
       "      <th>fq_classical</th>\n",
       "      <th>fq_country</th>\n",
       "      <th>fq_edm</th>\n",
       "      <th>fq_folk</th>\n",
       "      <th>fq_gospel</th>\n",
       "      <th>fq_hip_hop</th>\n",
       "      <th>fq_jazz</th>\n",
       "      <th>fq_k_pop</th>\n",
       "      <th>fq_latin</th>\n",
       "      <th>fq_lofi</th>\n",
       "      <th>fq_metal</th>\n",
       "      <th>fq_pop</th>\n",
       "      <th>fq_r&amp;B</th>\n",
       "      <th>fq_rap</th>\n",
       "      <th>fq_rock</th>\n",
       "      <th>fq_video_game_music</th>\n",
       "      <th>Anxiety</th>\n",
       "      <th>Depression</th>\n",
       "      <th>Insomnia</th>\n",
       "      <th>OCD</th>\n",
       "      <th>music_effects</th>\n",
       "      <th>Permissions</th>\n",
       "    </tr>\n",
       "  </thead>\n",
       "  <tbody>\n",
       "    <tr>\n",
       "      <th>10</th>\n",
       "      <td>2022-08-27 22:51:15</td>\n",
       "      <td>18.0</td>\n",
       "      <td>Spotify</td>\n",
       "      <td>3.0</td>\n",
       "      <td>Yes</td>\n",
       "      <td>Yes</td>\n",
       "      <td>No</td>\n",
       "      <td>Country</td>\n",
       "      <td>Yes</td>\n",
       "      <td>No</td>\n",
       "      <td>NaN</td>\n",
       "      <td>Never</td>\n",
       "      <td>Very frequently</td>\n",
       "      <td>Never</td>\n",
       "      <td>Never</td>\n",
       "      <td>Never</td>\n",
       "      <td>Never</td>\n",
       "      <td>Never</td>\n",
       "      <td>Never</td>\n",
       "      <td>Never</td>\n",
       "      <td>Never</td>\n",
       "      <td>Never</td>\n",
       "      <td>Rarely</td>\n",
       "      <td>Rarely</td>\n",
       "      <td>Never</td>\n",
       "      <td>Rarely</td>\n",
       "      <td>Never</td>\n",
       "      <td>7.0</td>\n",
       "      <td>7.0</td>\n",
       "      <td>4.0</td>\n",
       "      <td>7.0</td>\n",
       "      <td>No effect</td>\n",
       "      <td>I understand.</td>\n",
       "    </tr>\n",
       "    <tr>\n",
       "      <th>12</th>\n",
       "      <td>2022-08-27 23:04:00</td>\n",
       "      <td>NaN</td>\n",
       "      <td>Spotify</td>\n",
       "      <td>3.0</td>\n",
       "      <td>Yes</td>\n",
       "      <td>No</td>\n",
       "      <td>No</td>\n",
       "      <td>Hip hop</td>\n",
       "      <td>Yes</td>\n",
       "      <td>Yes</td>\n",
       "      <td>NaN</td>\n",
       "      <td>Rarely</td>\n",
       "      <td>Never</td>\n",
       "      <td>Rarely</td>\n",
       "      <td>Never</td>\n",
       "      <td>Never</td>\n",
       "      <td>Very frequently</td>\n",
       "      <td>Never</td>\n",
       "      <td>Sometimes</td>\n",
       "      <td>Never</td>\n",
       "      <td>Very frequently</td>\n",
       "      <td>Never</td>\n",
       "      <td>Sometimes</td>\n",
       "      <td>Sometimes</td>\n",
       "      <td>Rarely</td>\n",
       "      <td>Rarely</td>\n",
       "      <td>Never</td>\n",
       "      <td>9.0</td>\n",
       "      <td>3.0</td>\n",
       "      <td>2.0</td>\n",
       "      <td>7.0</td>\n",
       "      <td>Improve</td>\n",
       "      <td>I understand.</td>\n",
       "    </tr>\n",
       "    <tr>\n",
       "      <th>15</th>\n",
       "      <td>2022-08-27 23:19:52</td>\n",
       "      <td>17.0</td>\n",
       "      <td>Spotify</td>\n",
       "      <td>2.0</td>\n",
       "      <td>No</td>\n",
       "      <td>No</td>\n",
       "      <td>No</td>\n",
       "      <td>Pop</td>\n",
       "      <td>Yes</td>\n",
       "      <td>Yes</td>\n",
       "      <td>NaN</td>\n",
       "      <td>Rarely</td>\n",
       "      <td>Rarely</td>\n",
       "      <td>Never</td>\n",
       "      <td>Never</td>\n",
       "      <td>Never</td>\n",
       "      <td>Sometimes</td>\n",
       "      <td>Rarely</td>\n",
       "      <td>Rarely</td>\n",
       "      <td>Rarely</td>\n",
       "      <td>Rarely</td>\n",
       "      <td>Rarely</td>\n",
       "      <td>Very frequently</td>\n",
       "      <td>Rarely</td>\n",
       "      <td>Sometimes</td>\n",
       "      <td>Sometimes</td>\n",
       "      <td>Rarely</td>\n",
       "      <td>7.0</td>\n",
       "      <td>5.0</td>\n",
       "      <td>4.0</td>\n",
       "      <td>1.0</td>\n",
       "      <td>Worsen</td>\n",
       "      <td>I understand.</td>\n",
       "    </tr>\n",
       "    <tr>\n",
       "      <th>30</th>\n",
       "      <td>2022-08-28 10:30:22</td>\n",
       "      <td>20.0</td>\n",
       "      <td>Apple Music</td>\n",
       "      <td>5.0</td>\n",
       "      <td>Yes</td>\n",
       "      <td>Yes</td>\n",
       "      <td>No</td>\n",
       "      <td>Rock</td>\n",
       "      <td>Yes</td>\n",
       "      <td>Yes</td>\n",
       "      <td>NaN</td>\n",
       "      <td>Never</td>\n",
       "      <td>Rarely</td>\n",
       "      <td>Rarely</td>\n",
       "      <td>Very frequently</td>\n",
       "      <td>Never</td>\n",
       "      <td>Very frequently</td>\n",
       "      <td>Sometimes</td>\n",
       "      <td>Never</td>\n",
       "      <td>Sometimes</td>\n",
       "      <td>Sometimes</td>\n",
       "      <td>Very frequently</td>\n",
       "      <td>Sometimes</td>\n",
       "      <td>Sometimes</td>\n",
       "      <td>Sometimes</td>\n",
       "      <td>Very frequently</td>\n",
       "      <td>Rarely</td>\n",
       "      <td>7.0</td>\n",
       "      <td>7.0</td>\n",
       "      <td>2.0</td>\n",
       "      <td>0.0</td>\n",
       "      <td>Improve</td>\n",
       "      <td>I understand.</td>\n",
       "    </tr>\n",
       "    <tr>\n",
       "      <th>32</th>\n",
       "      <td>2022-08-28 10:54:30</td>\n",
       "      <td>19.0</td>\n",
       "      <td>Spotify</td>\n",
       "      <td>6.0</td>\n",
       "      <td>Yes</td>\n",
       "      <td>Yes</td>\n",
       "      <td>No</td>\n",
       "      <td>Metal</td>\n",
       "      <td>Yes</td>\n",
       "      <td>Yes</td>\n",
       "      <td>NaN</td>\n",
       "      <td>Never</td>\n",
       "      <td>Never</td>\n",
       "      <td>Never</td>\n",
       "      <td>Rarely</td>\n",
       "      <td>Never</td>\n",
       "      <td>Rarely</td>\n",
       "      <td>Sometimes</td>\n",
       "      <td>Rarely</td>\n",
       "      <td>Never</td>\n",
       "      <td>Sometimes</td>\n",
       "      <td>Very frequently</td>\n",
       "      <td>Sometimes</td>\n",
       "      <td>Never</td>\n",
       "      <td>Never</td>\n",
       "      <td>Sometimes</td>\n",
       "      <td>Sometimes</td>\n",
       "      <td>9.0</td>\n",
       "      <td>8.0</td>\n",
       "      <td>2.0</td>\n",
       "      <td>3.0</td>\n",
       "      <td>Improve</td>\n",
       "      <td>I understand.</td>\n",
       "    </tr>\n",
       "    <tr>\n",
       "      <th>...</th>\n",
       "      <td>...</td>\n",
       "      <td>...</td>\n",
       "      <td>...</td>\n",
       "      <td>...</td>\n",
       "      <td>...</td>\n",
       "      <td>...</td>\n",
       "      <td>...</td>\n",
       "      <td>...</td>\n",
       "      <td>...</td>\n",
       "      <td>...</td>\n",
       "      <td>...</td>\n",
       "      <td>...</td>\n",
       "      <td>...</td>\n",
       "      <td>...</td>\n",
       "      <td>...</td>\n",
       "      <td>...</td>\n",
       "      <td>...</td>\n",
       "      <td>...</td>\n",
       "      <td>...</td>\n",
       "      <td>...</td>\n",
       "      <td>...</td>\n",
       "      <td>...</td>\n",
       "      <td>...</td>\n",
       "      <td>...</td>\n",
       "      <td>...</td>\n",
       "      <td>...</td>\n",
       "      <td>...</td>\n",
       "      <td>...</td>\n",
       "      <td>...</td>\n",
       "      <td>...</td>\n",
       "      <td>...</td>\n",
       "      <td>...</td>\n",
       "      <td>...</td>\n",
       "    </tr>\n",
       "    <tr>\n",
       "      <th>688</th>\n",
       "      <td>2022-09-24 00:42:39</td>\n",
       "      <td>18.0</td>\n",
       "      <td>Spotify</td>\n",
       "      <td>4.0</td>\n",
       "      <td>Yes</td>\n",
       "      <td>No</td>\n",
       "      <td>No</td>\n",
       "      <td>R&amp;B</td>\n",
       "      <td>No</td>\n",
       "      <td>No</td>\n",
       "      <td>NaN</td>\n",
       "      <td>Never</td>\n",
       "      <td>Rarely</td>\n",
       "      <td>Never</td>\n",
       "      <td>Never</td>\n",
       "      <td>Never</td>\n",
       "      <td>Very frequently</td>\n",
       "      <td>Never</td>\n",
       "      <td>Never</td>\n",
       "      <td>Never</td>\n",
       "      <td>Very frequently</td>\n",
       "      <td>Never</td>\n",
       "      <td>Sometimes</td>\n",
       "      <td>Very frequently</td>\n",
       "      <td>Sometimes</td>\n",
       "      <td>Never</td>\n",
       "      <td>Never</td>\n",
       "      <td>8.0</td>\n",
       "      <td>0.0</td>\n",
       "      <td>0.0</td>\n",
       "      <td>2.0</td>\n",
       "      <td>No effect</td>\n",
       "      <td>I understand.</td>\n",
       "    </tr>\n",
       "    <tr>\n",
       "      <th>700</th>\n",
       "      <td>2022-10-03 10:00:01</td>\n",
       "      <td>20.0</td>\n",
       "      <td>YouTube Music</td>\n",
       "      <td>1.0</td>\n",
       "      <td>Yes</td>\n",
       "      <td>No</td>\n",
       "      <td>No</td>\n",
       "      <td>Pop</td>\n",
       "      <td>No</td>\n",
       "      <td>Yes</td>\n",
       "      <td>NaN</td>\n",
       "      <td>Sometimes</td>\n",
       "      <td>Rarely</td>\n",
       "      <td>Rarely</td>\n",
       "      <td>Rarely</td>\n",
       "      <td>Rarely</td>\n",
       "      <td>Sometimes</td>\n",
       "      <td>Rarely</td>\n",
       "      <td>Never</td>\n",
       "      <td>Never</td>\n",
       "      <td>Rarely</td>\n",
       "      <td>Rarely</td>\n",
       "      <td>Very frequently</td>\n",
       "      <td>Rarely</td>\n",
       "      <td>Sometimes</td>\n",
       "      <td>Rarely</td>\n",
       "      <td>Very frequently</td>\n",
       "      <td>8.0</td>\n",
       "      <td>9.0</td>\n",
       "      <td>6.0</td>\n",
       "      <td>5.0</td>\n",
       "      <td>Worsen</td>\n",
       "      <td>I understand.</td>\n",
       "    </tr>\n",
       "    <tr>\n",
       "      <th>706</th>\n",
       "      <td>2022-10-03 15:38:19</td>\n",
       "      <td>23.0</td>\n",
       "      <td>Spotify</td>\n",
       "      <td>1.0</td>\n",
       "      <td>Yes</td>\n",
       "      <td>Yes</td>\n",
       "      <td>No</td>\n",
       "      <td>Rock</td>\n",
       "      <td>Yes</td>\n",
       "      <td>Yes</td>\n",
       "      <td>NaN</td>\n",
       "      <td>Rarely</td>\n",
       "      <td>Rarely</td>\n",
       "      <td>Sometimes</td>\n",
       "      <td>Sometimes</td>\n",
       "      <td>Never</td>\n",
       "      <td>Sometimes</td>\n",
       "      <td>Rarely</td>\n",
       "      <td>Rarely</td>\n",
       "      <td>Never</td>\n",
       "      <td>Sometimes</td>\n",
       "      <td>Sometimes</td>\n",
       "      <td>Very frequently</td>\n",
       "      <td>Sometimes</td>\n",
       "      <td>Sometimes</td>\n",
       "      <td>Very frequently</td>\n",
       "      <td>Very frequently</td>\n",
       "      <td>8.0</td>\n",
       "      <td>6.0</td>\n",
       "      <td>1.0</td>\n",
       "      <td>4.0</td>\n",
       "      <td>Improve</td>\n",
       "      <td>I understand.</td>\n",
       "    </tr>\n",
       "    <tr>\n",
       "      <th>712</th>\n",
       "      <td>2022-10-04 08:53:39</td>\n",
       "      <td>23.0</td>\n",
       "      <td>I do not use a streaming service.</td>\n",
       "      <td>3.0</td>\n",
       "      <td>Yes</td>\n",
       "      <td>No</td>\n",
       "      <td>No</td>\n",
       "      <td>Rock</td>\n",
       "      <td>No</td>\n",
       "      <td>No</td>\n",
       "      <td>NaN</td>\n",
       "      <td>Never</td>\n",
       "      <td>Never</td>\n",
       "      <td>Never</td>\n",
       "      <td>Rarely</td>\n",
       "      <td>Never</td>\n",
       "      <td>Never</td>\n",
       "      <td>Sometimes</td>\n",
       "      <td>Never</td>\n",
       "      <td>Never</td>\n",
       "      <td>Rarely</td>\n",
       "      <td>Never</td>\n",
       "      <td>Sometimes</td>\n",
       "      <td>Rarely</td>\n",
       "      <td>Never</td>\n",
       "      <td>Very frequently</td>\n",
       "      <td>Never</td>\n",
       "      <td>10.0</td>\n",
       "      <td>5.0</td>\n",
       "      <td>2.0</td>\n",
       "      <td>0.0</td>\n",
       "      <td>Improve</td>\n",
       "      <td>I understand.</td>\n",
       "    </tr>\n",
       "    <tr>\n",
       "      <th>717</th>\n",
       "      <td>2022-10-05 12:30:23</td>\n",
       "      <td>23.0</td>\n",
       "      <td>Spotify</td>\n",
       "      <td>2.0</td>\n",
       "      <td>No</td>\n",
       "      <td>No</td>\n",
       "      <td>No</td>\n",
       "      <td>Rock</td>\n",
       "      <td>Yes</td>\n",
       "      <td>Yes</td>\n",
       "      <td>NaN</td>\n",
       "      <td>Rarely</td>\n",
       "      <td>Never</td>\n",
       "      <td>Rarely</td>\n",
       "      <td>Rarely</td>\n",
       "      <td>Never</td>\n",
       "      <td>Sometimes</td>\n",
       "      <td>Never</td>\n",
       "      <td>Rarely</td>\n",
       "      <td>Rarely</td>\n",
       "      <td>Rarely</td>\n",
       "      <td>Very frequently</td>\n",
       "      <td>Sometimes</td>\n",
       "      <td>Sometimes</td>\n",
       "      <td>Sometimes</td>\n",
       "      <td>Very frequently</td>\n",
       "      <td>Never</td>\n",
       "      <td>5.0</td>\n",
       "      <td>7.0</td>\n",
       "      <td>10.0</td>\n",
       "      <td>2.0</td>\n",
       "      <td>No effect</td>\n",
       "      <td>I understand.</td>\n",
       "    </tr>\n",
       "  </tbody>\n",
       "</table>\n",
       "<p>107 rows × 33 columns</p>\n",
       "</div>"
      ],
      "text/plain": [
       "                   date   age                  streaming_service  \\\n",
       "10  2022-08-27 22:51:15  18.0                            Spotify   \n",
       "12  2022-08-27 23:04:00   NaN                            Spotify   \n",
       "15  2022-08-27 23:19:52  17.0                            Spotify   \n",
       "30  2022-08-28 10:30:22  20.0                        Apple Music   \n",
       "32  2022-08-28 10:54:30  19.0                            Spotify   \n",
       "..                  ...   ...                                ...   \n",
       "688 2022-09-24 00:42:39  18.0                            Spotify   \n",
       "700 2022-10-03 10:00:01  20.0                      YouTube Music   \n",
       "706 2022-10-03 15:38:19  23.0                            Spotify   \n",
       "712 2022-10-04 08:53:39  23.0  I do not use a streaming service.   \n",
       "717 2022-10-05 12:30:23  23.0                            Spotify   \n",
       "\n",
       "     hours_per_day while_working Instrumentalist Composer favorite_genre  \\\n",
       "10             3.0           Yes             Yes       No        Country   \n",
       "12             3.0           Yes              No       No        Hip hop   \n",
       "15             2.0            No              No       No            Pop   \n",
       "30             5.0           Yes             Yes       No           Rock   \n",
       "32             6.0           Yes             Yes       No          Metal   \n",
       "..             ...           ...             ...      ...            ...   \n",
       "688            4.0           Yes              No       No            R&B   \n",
       "700            1.0           Yes              No       No            Pop   \n",
       "706            1.0           Yes             Yes       No           Rock   \n",
       "712            3.0           Yes              No       No           Rock   \n",
       "717            2.0            No              No       No           Rock   \n",
       "\n",
       "    Exploratory foreign_languages  BPM fq_classical       fq_country  \\\n",
       "10          Yes                No  NaN        Never  Very frequently   \n",
       "12          Yes               Yes  NaN       Rarely            Never   \n",
       "15          Yes               Yes  NaN       Rarely           Rarely   \n",
       "30          Yes               Yes  NaN        Never           Rarely   \n",
       "32          Yes               Yes  NaN        Never            Never   \n",
       "..          ...               ...  ...          ...              ...   \n",
       "688          No                No  NaN        Never           Rarely   \n",
       "700          No               Yes  NaN    Sometimes           Rarely   \n",
       "706         Yes               Yes  NaN       Rarely           Rarely   \n",
       "712          No                No  NaN        Never            Never   \n",
       "717         Yes               Yes  NaN       Rarely            Never   \n",
       "\n",
       "        fq_edm          fq_folk fq_gospel       fq_hip_hop    fq_jazz  \\\n",
       "10       Never            Never     Never            Never      Never   \n",
       "12      Rarely            Never     Never  Very frequently      Never   \n",
       "15       Never            Never     Never        Sometimes     Rarely   \n",
       "30      Rarely  Very frequently     Never  Very frequently  Sometimes   \n",
       "32       Never           Rarely     Never           Rarely  Sometimes   \n",
       "..         ...              ...       ...              ...        ...   \n",
       "688      Never            Never     Never  Very frequently      Never   \n",
       "700     Rarely           Rarely    Rarely        Sometimes     Rarely   \n",
       "706  Sometimes        Sometimes     Never        Sometimes     Rarely   \n",
       "712      Never           Rarely     Never            Never  Sometimes   \n",
       "717     Rarely           Rarely     Never        Sometimes      Never   \n",
       "\n",
       "      fq_k_pop   fq_latin          fq_lofi         fq_metal           fq_pop  \\\n",
       "10       Never      Never            Never            Never           Rarely   \n",
       "12   Sometimes      Never  Very frequently            Never        Sometimes   \n",
       "15      Rarely     Rarely           Rarely           Rarely  Very frequently   \n",
       "30       Never  Sometimes        Sometimes  Very frequently        Sometimes   \n",
       "32      Rarely      Never        Sometimes  Very frequently        Sometimes   \n",
       "..         ...        ...              ...              ...              ...   \n",
       "688      Never      Never  Very frequently            Never        Sometimes   \n",
       "700      Never      Never           Rarely           Rarely  Very frequently   \n",
       "706     Rarely      Never        Sometimes        Sometimes  Very frequently   \n",
       "712      Never      Never           Rarely            Never        Sometimes   \n",
       "717     Rarely     Rarely           Rarely  Very frequently        Sometimes   \n",
       "\n",
       "              fq_r&B     fq_rap          fq_rock fq_video_game_music  Anxiety  \\\n",
       "10            Rarely      Never           Rarely               Never      7.0   \n",
       "12         Sometimes     Rarely           Rarely               Never      9.0   \n",
       "15            Rarely  Sometimes        Sometimes              Rarely      7.0   \n",
       "30         Sometimes  Sometimes  Very frequently              Rarely      7.0   \n",
       "32             Never      Never        Sometimes           Sometimes      9.0   \n",
       "..               ...        ...              ...                 ...      ...   \n",
       "688  Very frequently  Sometimes            Never               Never      8.0   \n",
       "700           Rarely  Sometimes           Rarely     Very frequently      8.0   \n",
       "706        Sometimes  Sometimes  Very frequently     Very frequently      8.0   \n",
       "712           Rarely      Never  Very frequently               Never     10.0   \n",
       "717        Sometimes  Sometimes  Very frequently               Never      5.0   \n",
       "\n",
       "     Depression  Insomnia  OCD music_effects    Permissions  \n",
       "10          7.0       4.0  7.0     No effect  I understand.  \n",
       "12          3.0       2.0  7.0       Improve  I understand.  \n",
       "15          5.0       4.0  1.0        Worsen  I understand.  \n",
       "30          7.0       2.0  0.0       Improve  I understand.  \n",
       "32          8.0       2.0  3.0       Improve  I understand.  \n",
       "..          ...       ...  ...           ...            ...  \n",
       "688         0.0       0.0  2.0     No effect  I understand.  \n",
       "700         9.0       6.0  5.0        Worsen  I understand.  \n",
       "706         6.0       1.0  4.0       Improve  I understand.  \n",
       "712         5.0       2.0  0.0       Improve  I understand.  \n",
       "717         7.0      10.0  2.0     No effect  I understand.  \n",
       "\n",
       "[107 rows x 33 columns]"
      ]
     },
     "execution_count": 41,
     "metadata": {},
     "output_type": "execute_result"
    }
   ],
   "source": [
    "# Create a new df of just the rows that are missing data\n",
    "df_null_geo = df[pd.isnull(df.BPM)]\n",
    "df_null_geo.head(len(df))"
   ]
  },
  {
   "cell_type": "code",
   "execution_count": null,
   "id": "43449392",
   "metadata": {},
   "outputs": [],
   "source": [
    "# Primary streaming service has 1 null value (index = 197)\n",
    "# Age has one null value (index = 12)\n",
    "# While working has 3 null values (index = 57, 426, 561)\n",
    "# Instrumentalist has 4 null values (index = 223, 408, 561, 572)\n",
    "# Composer has 1 null value (index = 561)\n",
    "# foreign_languages has 4 null values (index = 235, 396, 561, 666)\n",
    "# BPM has 107 null values\n",
    "# music_effects has 8 null values (index = 0, 1, 161, 168, 338, 441, 532, 561)"
   ]
  },
  {
   "cell_type": "code",
   "execution_count": 76,
   "id": "91910b82",
   "metadata": {},
   "outputs": [],
   "source": [
    "# Droping null values for Primary streaming service, Age, Instrumentalist, Composer, While working, foreign languages\n",
    "df = df.drop([12, 57, 161, 168, 197, 223, 235, 338, 396, 408, 426, 441, 532, 561, 572, 666], axis='index').copy()"
   ]
  },
  {
   "cell_type": "code",
   "execution_count": 78,
   "id": "2c876d14",
   "metadata": {},
   "outputs": [
    {
     "data": {
      "image/png": "[encoded data removed]",
      "text/plain": [
       "<Figure size 1152x576 with 1 Axes>"
      ]
     },
     "metadata": {
      "needs_background": "light"
     },
     "output_type": "display_data"
    }
   ],
   "source": [
    "plt.figure(figsize=(16,8));\n",
    "\n",
    "sns.barplot(\n",
    "    data = df,\n",
    "    x = 'favorite_genre',\n",
    "    y = 'Anxiety');\n"
   ]
  },
  {
   "cell_type": "code",
   "execution_count": 79,
   "id": "8712ab9e",
   "metadata": {},
   "outputs": [
    {
     "data": {
      "text/plain": [
       "Rock                185\n",
       "Pop                 114\n",
       "Metal                87\n",
       "Classical            51\n",
       "Video game music     43\n",
       "EDM                  36\n",
       "R&B                  35\n",
       "Hip hop              34\n",
       "Folk                 29\n",
       "Country              24\n",
       "Rap                  22\n",
       "K pop                21\n",
       "Jazz                 20\n",
       "Lofi                 10\n",
       "Gospel                6\n",
       "Latin                 3\n",
       "Name: favorite_genre, dtype: int64"
      ]
     },
     "execution_count": 79,
     "metadata": {},
     "output_type": "execute_result"
    }
   ],
   "source": [
    "# Reasons for high standard deviation\n",
    "df[\"favorite_genre\"].value_counts()"
   ]
  },
  {
   "cell_type": "code",
   "execution_count": 88,
   "id": "b4e25829",
   "metadata": {},
   "outputs": [],
   "source": [
    "df2 = df.drop(df[df['favorite_genre'].isin(['Lofi','Gospel','Latin'])].index)"
   ]
  },
  {
   "cell_type": "code",
   "execution_count": 82,
   "id": "e08b0731",
   "metadata": {},
   "outputs": [],
   "source": [
    "df2.drop(df[df['favorite_genre'] == 'Latin'].index, inplace = True)"
   ]
  },
  {
   "cell_type": "code",
   "execution_count": 83,
   "id": "91736038",
   "metadata": {},
   "outputs": [],
   "source": [
    "df2.drop(df[df['favorite_genre'] == 'Gospel'].index, inplace = True)"
   ]
  },
  {
   "cell_type": "code",
   "execution_count": 84,
   "id": "8edf4b24",
   "metadata": {},
   "outputs": [],
   "source": [
    "df2.drop(df[df['favorite_genre'] == 'Lofi'].index, inplace = True)"
   ]
  },
  {
   "cell_type": "code",
   "execution_count": null,
   "id": "fcca4ad3",
   "metadata": {},
   "outputs": [],
   "source": [
    "df2.drop(df[df['favorite_genre'].isin('Lofi','Gospel','Latin')].index, inplace = True)"
   ]
  },
  {
   "cell_type": "code",
   "execution_count": 89,
   "id": "da329c51",
   "metadata": {
    "scrolled": true
   },
   "outputs": [
    {
     "data": {
      "image/png": "[encoded data removed]",
      "text/plain": [
       "<Figure size 720x360 with 1 Axes>"
      ]
     },
     "metadata": {
      "needs_background": "light"
     },
     "output_type": "display_data"
    }
   ],
   "source": [
    "plt.figure(figsize=(10,5));\n",
    "\n",
    "sns.barplot(\n",
    "    data = df2,\n",
    "    x = 'favorite_genre',\n",
    "    y = 'Anxiety');\n"
   ]
  },
  {
   "cell_type": "code",
   "execution_count": 93,
   "id": "b72f7682",
   "metadata": {},
   "outputs": [
    {
     "data": {
      "text/plain": [
       "<AxesSubplot:xlabel='favorite_genre', ylabel='age'>"
      ]
     },
     "execution_count": 93,
     "metadata": {},
     "output_type": "execute_result"
    },
    {
     "data": {
      "image/png": "[encoded data removed]",
      "text/plain": [
       "<Figure size 864x360 with 1 Axes>"
      ]
     },
     "metadata": {
      "needs_background": "light"
     },
     "output_type": "display_data"
    }
   ],
   "source": [
    "plt.figure(figsize=(12,5));\n",
    "\n",
    "sns.boxplot(data=df2, y=\"age\", x=\"favorite_genre\")\n"
   ]
  },
  {
   "cell_type": "code",
   "execution_count": 94,
   "id": "e5ba8d17",
   "metadata": {
    "scrolled": true
   },
   "outputs": [
    {
     "data": {
      "text/plain": [
       "array([[<AxesSubplot:title={'center':'age'}>]], dtype=object)"
      ]
     },
     "execution_count": 94,
     "metadata": {},
     "output_type": "execute_result"
    },
    {
     "data": {
      "image/png": "[encoded data removed]",
      "text/plain": [
       "<Figure size 432x288 with 1 Axes>"
      ]
     },
     "metadata": {
      "needs_background": "light"
     },
     "output_type": "display_data"
    }
   ],
   "source": [
    "# Faixas etária\n",
    "df.hist(['age'], bins=30, grid=False)"
   ]
  },
  {
   "cell_type": "code",
   "execution_count": 95,
   "id": "1d19b393",
   "metadata": {},
   "outputs": [
    {
     "data": {
      "text/plain": [
       "18.0    79\n",
       "19.0    60\n",
       "17.0    57\n",
       "Name: age, dtype: int64"
      ]
     },
     "execution_count": 95,
     "metadata": {},
     "output_type": "execute_result"
    }
   ],
   "source": [
    "df['age'].value_counts().loc[lambda x : x>50]"
   ]
  },
  {
   "cell_type": "code",
   "execution_count": 97,
   "id": "ffec5aa1",
   "metadata": {},
   "outputs": [
    {
     "data": {
      "text/plain": [
       "89.0"
      ]
     },
     "execution_count": 97,
     "metadata": {},
     "output_type": "execute_result"
    }
   ],
   "source": [
    "df['age'].max()"
   ]
  },
  {
   "cell_type": "code",
   "execution_count": 101,
   "id": "a5466101",
   "metadata": {
    "scrolled": true
   },
   "outputs": [
    {
     "data": {
      "text/plain": [
       "Text(0, 0.5, '')"
      ]
     },
     "execution_count": 101,
     "metadata": {},
     "output_type": "execute_result"
    },
    {
     "data": {
      "image/png": "[encoded data removed]",
      "text/plain": [
       "<Figure size 864x576 with 1 Axes>"
      ]
     },
     "metadata": {},
     "output_type": "display_data"
    }
   ],
   "source": [
    "plt.figure(figsize=(12,8));\n",
    "\n",
    "s_colors = ['lightgreen', 'lightcoral', 'steelblue', 'palevioletred', 'gold', 'darkturquoise']\n",
    "\n",
    "services = df['streaming_service'].value_counts()\n",
    "services.plot(kind='pie', colors = s_colors)\n",
    "\n",
    "plt.title('Popularity of the Streaming services')\n",
    "plt.ylabel(\"\")"
   ]
  },
  {
   "cell_type": "code",
   "execution_count": 102,
   "id": "332c382f",
   "metadata": {},
   "outputs": [
    {
     "data": {
      "text/plain": [
       "Spotify                              0.626248\n",
       "YouTube Music                        0.126961\n",
       "I do not use a streaming service.    0.097004\n",
       "Apple Music                          0.068474\n",
       "Other streaming service              0.068474\n",
       "Pandora                              0.012839\n",
       "Name: streaming_service, dtype: float64"
      ]
     },
     "execution_count": 102,
     "metadata": {},
     "output_type": "execute_result"
    }
   ],
   "source": [
    "df['streaming_service'].value_counts(normalize=True)"
   ]
  },
  {
   "cell_type": "code",
   "execution_count": 103,
   "id": "7b7bec35",
   "metadata": {},
   "outputs": [
    {
     "data": {
      "text/plain": [
       "Spotify                              439\n",
       "YouTube Music                         89\n",
       "I do not use a streaming service.     68\n",
       "Apple Music                           48\n",
       "Other streaming service               48\n",
       "Pandora                                9\n",
       "Name: streaming_service, dtype: int64"
      ]
     },
     "execution_count": 103,
     "metadata": {},
     "output_type": "execute_result"
    }
   ],
   "source": [
    "df['streaming_service'].value_counts(normalize=False)"
   ]
  },
  {
   "cell_type": "code",
   "execution_count": 105,
   "id": "eeca4ff4",
   "metadata": {},
   "outputs": [
    {
     "data": {
      "text/plain": [
       "Text(0.5, 1.0, 'Streaming services by Age')"
      ]
     },
     "execution_count": 105,
     "metadata": {},
     "output_type": "execute_result"
    },
    {
     "data": {
      "image/png": "[encoded data removed]",
      "text/plain": [
       "<Figure size 864x576 with 1 Axes>"
      ]
     },
     "metadata": {
      "needs_background": "light"
     },
     "output_type": "display_data"
    }
   ],
   "source": [
    "plt.figure(figsize=(12,8));\n",
    "\n",
    "s_colors2 = ['lightgreen', 'darkturquoise', 'lightcoral', 'steelblue', 'palevioletred', 'gold']\n",
    "\n",
    "df.replace(['Other streaming service', 'I do not use a streaming service.', 'YouTube Music'],\n",
    "                       ['Other', 'None', 'YouTube'], inplace=True)\n",
    "\n",
    "bplot = sns.boxplot(data=df, x=\"streaming_service\", y = \"age\",\n",
    "            showfliers = False,\n",
    "            palette = s_colors2)\n",
    "\n",
    "plt.title('Streaming services by Age')"
   ]
  },
  {
   "cell_type": "code",
   "execution_count": 106,
   "id": "7d9359b0",
   "metadata": {},
   "outputs": [
    {
     "data": {
      "text/plain": [
       "[streaming_service\n",
       " Apple Music    20.0\n",
       " None           23.0\n",
       " Other          25.0\n",
       " Pandora        53.0\n",
       " Spotify        20.0\n",
       " YouTube        22.0\n",
       " Name: age, dtype: float64]"
      ]
     },
     "execution_count": 106,
     "metadata": {},
     "output_type": "execute_result"
    }
   ],
   "source": [
    "s_df = df.groupby(['streaming_service'])\n",
    "s_ages = []\n",
    "s_ages.append(s_df['age'].median())\n",
    "\n",
    "s_ages"
   ]
  },
  {
   "cell_type": "code",
   "execution_count": 110,
   "id": "b1a820e9",
   "metadata": {},
   "outputs": [
    {
     "data": {
      "text/plain": [
       "[streaming_service\n",
       " Apple Music    24.229167\n",
       " None           30.352941\n",
       " Other          30.520833\n",
       " Pandora        47.111111\n",
       " Spotify        22.712984\n",
       " YouTube        27.674157\n",
       " Name: age, dtype: float64]"
      ]
     },
     "execution_count": 110,
     "metadata": {},
     "output_type": "execute_result"
    }
   ],
   "source": [
    "s_df = df.groupby(['streaming_service'])\n",
    "s_ages = []\n",
    "s_ages.append(s_df['age'].mean())\n",
    "\n",
    "s_ages"
   ]
  },
  {
   "cell_type": "code",
   "execution_count": 114,
   "id": "4de361b1",
   "metadata": {},
   "outputs": [
    {
     "data": {
      "text/plain": [
       "array([[<AxesSubplot:title={'center':'hours_per_day'}>]], dtype=object)"
      ]
     },
     "execution_count": 114,
     "metadata": {},
     "output_type": "execute_result"
    },
    {
     "data": {
      "text/plain": [
       "<Figure size 1008x648 with 0 Axes>"
      ]
     },
     "metadata": {},
     "output_type": "display_data"
    },
    {
     "data": {
      "image/png": "[encoded data removed]",
      "text/plain": [
       "<Figure size 432x288 with 1 Axes>"
      ]
     },
     "metadata": {
      "needs_background": "light"
     },
     "output_type": "display_data"
    }
   ],
   "source": [
    "plt.figure(figsize=(14,9));\n",
    "\n",
    "df.hist(['hours_per_day'], bins='auto', density=True, color = 'slateblue', grid=False)"
   ]
  },
  {
   "cell_type": "code",
   "execution_count": 115,
   "id": "1c16b49d",
   "metadata": {},
   "outputs": [
    {
     "data": {
      "text/plain": [
       "2.0    167\n",
       "3.0    113\n",
       "1.0    112\n",
       "Name: hours_per_day, dtype: int64"
      ]
     },
     "execution_count": 115,
     "metadata": {},
     "output_type": "execute_result"
    }
   ],
   "source": [
    "df['hours_per_day'].value_counts().loc[lambda x : x>100]"
   ]
  },
  {
   "cell_type": "code",
   "execution_count": 123,
   "id": "35499465",
   "metadata": {},
   "outputs": [
    {
     "data": {
      "text/plain": [
       "<AxesSubplot:ylabel='Composer'>"
      ]
     },
     "execution_count": 123,
     "metadata": {},
     "output_type": "execute_result"
    },
    {
     "data": {
      "image/png": "[encoded data removed]",
      "text/plain": [
       "<Figure size 720x432 with 2 Axes>"
      ]
     },
     "metadata": {},
     "output_type": "display_data"
    }
   ],
   "source": [
    "fig = plt.figure(figsize=(10,6))\n",
    "\n",
    "plt.suptitle(\"Music on the background\")\n",
    "\n",
    "ax = fig.add_subplot(121)\n",
    "\n",
    "inst = df['Instrumentalist'].value_counts()\n",
    "inst.plot(kind='pie', labeldistance = 1.2)\n",
    "\n",
    "ax = fig.add_subplot(122)\n",
    "\n",
    "comp = df['Composer'].value_counts()\n",
    "comp.plot(kind='pie', labeldistance = 1.2)"
   ]
  },
  {
   "cell_type": "code",
   "execution_count": 120,
   "id": "07d9263e",
   "metadata": {},
   "outputs": [
    {
     "data": {
      "text/plain": [
       "No     0.68331\n",
       "Yes    0.31669\n",
       "Name: Instrumentalist, dtype: float64"
      ]
     },
     "execution_count": 120,
     "metadata": {},
     "output_type": "execute_result"
    }
   ],
   "source": [
    "df['Instrumentalist'].value_counts(normalize=True)"
   ]
  },
  {
   "cell_type": "code",
   "execution_count": 121,
   "id": "dc68891b",
   "metadata": {
    "scrolled": true
   },
   "outputs": [
    {
     "data": {
      "text/plain": [
       "No     0.828816\n",
       "Yes    0.171184\n",
       "Name: Composer, dtype: float64"
      ]
     },
     "execution_count": 121,
     "metadata": {},
     "output_type": "execute_result"
    }
   ],
   "source": [
    "df['Composer'].value_counts(normalize=True)"
   ]
  },
  {
   "cell_type": "code",
   "execution_count": null,
   "id": "988108d1",
   "metadata": {},
   "outputs": [],
   "source": [
    "# Relation between mental health and Instrumentalist, Composer or not\n",
    "\n",
    "#Try a different approach regarding Musicians and MH\n",
    "# Maybe combining the two columns Instrumentalist and Composer are mutually exclusive?\n"
   ]
  },
  {
   "cell_type": "code",
   "execution_count": 125,
   "id": "7e4bda4e",
   "metadata": {},
   "outputs": [],
   "source": [
    "# Change Yes or No answers to binary sistem\n",
    "df.replace(['No', 'Yes'],\n",
    "                       [0, 1], inplace=True)"
   ]
  },
  {
   "cell_type": "code",
   "execution_count": 126,
   "id": "af8254fe",
   "metadata": {},
   "outputs": [
    {
     "name": "stderr",
     "output_type": "stream",
     "text": [
      "C:\\Users\\rafas\\AppData\\Local\\Temp\\ipykernel_10024\\2402432279.py:7: FutureWarning: DataFrame.mean and DataFrame.median with numeric_only=None will include datetime64 and datetime64tz columns in a future version.\n",
      "  b1 = ax.bar(x-2*width, df[(df.Instrumentalist == 0)].median()[-4:], width, color = 'indianred', label = \"Non Instrumentalist\")\n",
      "C:\\Users\\rafas\\AppData\\Local\\Temp\\ipykernel_10024\\2402432279.py:7: FutureWarning: Dropping of nuisance columns in DataFrame reductions (with 'numeric_only=None') is deprecated; in a future version this will raise TypeError.  Select only valid columns before calling the reduction.\n",
      "  b1 = ax.bar(x-2*width, df[(df.Instrumentalist == 0)].median()[-4:], width, color = 'indianred', label = \"Non Instrumentalist\")\n",
      "C:\\Users\\rafas\\AppData\\Local\\Temp\\ipykernel_10024\\2402432279.py:8: FutureWarning: DataFrame.mean and DataFrame.median with numeric_only=None will include datetime64 and datetime64tz columns in a future version.\n",
      "  b2 = ax.bar(x-width, df[(df.Instrumentalist == 1)].median()[-4:], width, color = 'darkred', label = \"Instrumentalist\")\n",
      "C:\\Users\\rafas\\AppData\\Local\\Temp\\ipykernel_10024\\2402432279.py:8: FutureWarning: Dropping of nuisance columns in DataFrame reductions (with 'numeric_only=None') is deprecated; in a future version this will raise TypeError.  Select only valid columns before calling the reduction.\n",
      "  b2 = ax.bar(x-width, df[(df.Instrumentalist == 1)].median()[-4:], width, color = 'darkred', label = \"Instrumentalist\")\n",
      "C:\\Users\\rafas\\AppData\\Local\\Temp\\ipykernel_10024\\2402432279.py:9: FutureWarning: DataFrame.mean and DataFrame.median with numeric_only=None will include datetime64 and datetime64tz columns in a future version.\n",
      "  b3 = ax.bar(x, df[(df.Composer == 0)].median()[-4:], width, color = 'cornflowerblue', label = \"Non Composer\")\n",
      "C:\\Users\\rafas\\AppData\\Local\\Temp\\ipykernel_10024\\2402432279.py:9: FutureWarning: Dropping of nuisance columns in DataFrame reductions (with 'numeric_only=None') is deprecated; in a future version this will raise TypeError.  Select only valid columns before calling the reduction.\n",
      "  b3 = ax.bar(x, df[(df.Composer == 0)].median()[-4:], width, color = 'cornflowerblue', label = \"Non Composer\")\n",
      "C:\\Users\\rafas\\AppData\\Local\\Temp\\ipykernel_10024\\2402432279.py:10: FutureWarning: DataFrame.mean and DataFrame.median with numeric_only=None will include datetime64 and datetime64tz columns in a future version.\n",
      "  b4 = ax.bar(x+width, df[(df.Composer == 1)].median()[-4:], width, color = 'darkblue', label = \"Composer\")\n",
      "C:\\Users\\rafas\\AppData\\Local\\Temp\\ipykernel_10024\\2402432279.py:10: FutureWarning: Dropping of nuisance columns in DataFrame reductions (with 'numeric_only=None') is deprecated; in a future version this will raise TypeError.  Select only valid columns before calling the reduction.\n",
      "  b4 = ax.bar(x+width, df[(df.Composer == 1)].median()[-4:], width, color = 'darkblue', label = \"Composer\")\n"
     ]
    },
    {
     "data": {
      "image/png": "[encoded data removed]",
      "text/plain": [
       "<Figure size 720x360 with 1 Axes>"
      ]
     },
     "metadata": {
      "needs_background": "light"
     },
     "output_type": "display_data"
    }
   ],
   "source": [
    "labels = ['Anxiety', 'Depression','Insomnia', 'OCD']\n",
    "x = np.arange(len(labels))\n",
    "width = 0.15\n",
    "\n",
    "fig, ax = plt.subplots(figsize=(10, 5))\n",
    "\n",
    "b1 = ax.bar(x-2*width, df[(df.Instrumentalist == 0)].median()[-4:], width, color = 'indianred', label = \"Non Instrumentalist\")\n",
    "b2 = ax.bar(x-width, df[(df.Instrumentalist == 1)].median()[-4:], width, color = 'darkred', label = \"Instrumentalist\")\n",
    "b3 = ax.bar(x, df[(df.Composer == 0)].median()[-4:], width, color = 'cornflowerblue', label = \"Non Composer\")\n",
    "b4 = ax.bar(x+width, df[(df.Composer == 1)].median()[-4:], width, color = 'darkblue', label = \"Composer\")\n",
    "\n",
    "ax.set_ylim([0, 8])\n",
    "ax.set_ylabel('Ranking')\n",
    "ax.set_title('Mental health ranking distribution')\n",
    "ax.set_xticks(x, labels)\n",
    "ax.legend()\n",
    "\n",
    "plt.show()"
   ]
  },
  {
   "cell_type": "code",
   "execution_count": 130,
   "id": "ff3f4384",
   "metadata": {
    "scrolled": true
   },
   "outputs": [
    {
     "data": {
      "image/png": "[encoded data removed]",
      "text/plain": [
       "<Figure size 1008x504 with 2 Axes>"
      ]
     },
     "metadata": {
      "needs_background": "light"
     },
     "output_type": "display_data"
    }
   ],
   "source": [
    "fig = plt.figure(figsize=(14,7))\n",
    "\n",
    "corr_m = df.corr()\n",
    "corr_m1 = corr_m.iloc[:-5 , :-5]\n",
    "\n",
    "mask = np.triu(corr_m1)\n",
    "\n",
    "sns.heatmap(corr_m1, annot=True, mask=mask, cmap = 'YlOrRd')\n",
    "plt.show()"
   ]
  },
  {
   "cell_type": "code",
   "execution_count": null,
   "id": "fb2fb4ef",
   "metadata": {},
   "outputs": [],
   "source": [
    "# Mental health analysis"
   ]
  },
  {
   "cell_type": "code",
   "execution_count": 131,
   "id": "63774f25",
   "metadata": {},
   "outputs": [
    {
     "data": {
      "image/png": "[encoded data removed]",
      "text/plain": [
       "<Figure size 936x648 with 1 Axes>"
      ]
     },
     "metadata": {
      "needs_background": "light"
     },
     "output_type": "display_data"
    }
   ],
   "source": [
    "m_all = [\"Anxiety\", \"Depression\", \"Insomnia\", \"OCD\"]\n",
    "\n",
    "mental_df = df[m_all]\n",
    "mental_df.round(0).astype(int)\n",
    "\n",
    "disorder_count = []\n",
    "for disorder in m_all:\n",
    "    x=0\n",
    "    while x !=11:\n",
    "        count =  (mental_df[disorder].values == x).sum()\n",
    "        disorder_count.append(count)\n",
    "        x +=1\n",
    "\n",
    "labels = ['0','1', '2', '3', '4', '5', '6', '7', '8', '9', '10']\n",
    "x = np.arange(len(labels))\n",
    "width = 0.15\n",
    "\n",
    "fig, ax = plt.subplots(figsize=(13, 9))\n",
    "\n",
    "b1 = ax.bar(x-2*width, disorder_count[0:11], width, label=\"Anxiety\", color = 'lightpink')\n",
    "b2 = ax.bar(x-width, disorder_count[11:22], width, label=\"Depression\", color = 'cornflowerblue')\n",
    "b3 = ax.bar(x, disorder_count[22:33], width, label=\"Insomnia\", color = 'darkmagenta')\n",
    "b4 = ax.bar(x+width, disorder_count[33:], width, label=\"OCD\", color = 'orange')\n",
    "\n",
    "ax.set_ylim([0, 170])\n",
    "ax.set_ylabel('Number of Rankings')\n",
    "ax.set_xlabel('Ranking')\n",
    "ax.set_title('Mental health ranking distribution')\n",
    "ax.set_xticks(x, labels)\n",
    "ax.legend()\n",
    "\n",
    "plt.show()"
   ]
  },
  {
   "cell_type": "code",
   "execution_count": 132,
   "id": "460cae88",
   "metadata": {},
   "outputs": [
    {
     "name": "stdout",
     "output_type": "stream",
     "text": [
      "Anxiety average: 5.85\n",
      "Depression average: 4.8\n",
      "Insomnia average: 3.67\n",
      "OCD average: 2.64\n"
     ]
    }
   ],
   "source": [
    "for disorder in m_all:\n",
    "    d_avg = str(round(df[disorder].mean(), 2))\n",
    "    print(disorder + ' average: ' + d_avg)"
   ]
  },
  {
   "cell_type": "code",
   "execution_count": 133,
   "id": "e2c92bf9",
   "metadata": {},
   "outputs": [
    {
     "name": "stderr",
     "output_type": "stream",
     "text": [
      "C:\\Users\\rafas\\AppData\\Local\\Temp\\ipykernel_10024\\3792404305.py:4: FutureWarning: DataFrame.mean and DataFrame.median with numeric_only=None will include datetime64 and datetime64tz columns in a future version.\n",
      "  anxiety_extreme = df.loc[(df['Anxiety'] > 8)].mean()[1]\n",
      "C:\\Users\\rafas\\AppData\\Local\\Temp\\ipykernel_10024\\3792404305.py:4: FutureWarning: Dropping of nuisance columns in DataFrame reductions (with 'numeric_only=None') is deprecated; in a future version this will raise TypeError.  Select only valid columns before calling the reduction.\n",
      "  anxiety_extreme = df.loc[(df['Anxiety'] > 8)].mean()[1]\n",
      "C:\\Users\\rafas\\AppData\\Local\\Temp\\ipykernel_10024\\3792404305.py:5: FutureWarning: DataFrame.mean and DataFrame.median with numeric_only=None will include datetime64 and datetime64tz columns in a future version.\n",
      "  depression_extreme = df.loc[(df['Depression'] > 8)].mean()[1]\n",
      "C:\\Users\\rafas\\AppData\\Local\\Temp\\ipykernel_10024\\3792404305.py:5: FutureWarning: Dropping of nuisance columns in DataFrame reductions (with 'numeric_only=None') is deprecated; in a future version this will raise TypeError.  Select only valid columns before calling the reduction.\n",
      "  depression_extreme = df.loc[(df['Depression'] > 8)].mean()[1]\n",
      "C:\\Users\\rafas\\AppData\\Local\\Temp\\ipykernel_10024\\3792404305.py:6: FutureWarning: DataFrame.mean and DataFrame.median with numeric_only=None will include datetime64 and datetime64tz columns in a future version.\n",
      "  insomnia_extreme = df.loc[(df['Insomnia'] > 8)].mean()[1]\n",
      "C:\\Users\\rafas\\AppData\\Local\\Temp\\ipykernel_10024\\3792404305.py:6: FutureWarning: Dropping of nuisance columns in DataFrame reductions (with 'numeric_only=None') is deprecated; in a future version this will raise TypeError.  Select only valid columns before calling the reduction.\n",
      "  insomnia_extreme = df.loc[(df['Insomnia'] > 8)].mean()[1]\n",
      "C:\\Users\\rafas\\AppData\\Local\\Temp\\ipykernel_10024\\3792404305.py:7: FutureWarning: DataFrame.mean and DataFrame.median with numeric_only=None will include datetime64 and datetime64tz columns in a future version.\n",
      "  ocd_extreme = df.loc[(df['OCD'] > 8)].mean()[1]\n",
      "C:\\Users\\rafas\\AppData\\Local\\Temp\\ipykernel_10024\\3792404305.py:7: FutureWarning: Dropping of nuisance columns in DataFrame reductions (with 'numeric_only=None') is deprecated; in a future version this will raise TypeError.  Select only valid columns before calling the reduction.\n",
      "  ocd_extreme = df.loc[(df['OCD'] > 8)].mean()[1]\n"
     ]
    },
    {
     "data": {
      "image/png": "[encoded data removed]",
      "text/plain": [
       "<Figure size 1008x504 with 1 Axes>"
      ]
     },
     "metadata": {
      "needs_background": "light"
     },
     "output_type": "display_data"
    }
   ],
   "source": [
    "fig = plt.figure(figsize=(14,7))\n",
    "\n",
    "anxiety_extreme = df.loc[(df['Anxiety'] > 8)].mean()[1]\n",
    "depression_extreme = df.loc[(df['Depression'] > 8)].mean()[1]\n",
    "insomnia_extreme = df.loc[(df['Insomnia'] > 8)].mean()[1]\n",
    "ocd_extreme = df.loc[(df['OCD'] > 8)].mean()[1]\n",
    "\n",
    "extreme_means = [anxiety_extreme, depression_extreme, insomnia_extreme, ocd_extreme]\n",
    "\n",
    "plt.barh(m_all, extreme_means, color=('lightpink', 'cornflowerblue', 'darkmagenta', 'orange'))\n",
    "  \n",
    "plt.xlabel(\"Avg hours listened\")\n",
    "plt.title(\"Hours listened for individuals with extreme MH rankings\")\n",
    "plt.xlim(3,5.5)\n",
    "plt.show()"
   ]
  },
  {
   "cell_type": "code",
   "execution_count": 137,
   "id": "8769f39f",
   "metadata": {},
   "outputs": [
    {
     "name": "stderr",
     "output_type": "stream",
     "text": [
      "C:\\Users\\rafas\\AppData\\Local\\Temp\\ipykernel_10024\\1958109306.py:3: FutureWarning: DataFrame.mean and DataFrame.median with numeric_only=None will include datetime64 and datetime64tz columns in a future version.\n",
      "  anxiety_extreme2 = df.loc[(df['Anxiety'] < 3)].mean()[1]\n",
      "C:\\Users\\rafas\\AppData\\Local\\Temp\\ipykernel_10024\\1958109306.py:3: FutureWarning: Dropping of nuisance columns in DataFrame reductions (with 'numeric_only=None') is deprecated; in a future version this will raise TypeError.  Select only valid columns before calling the reduction.\n",
      "  anxiety_extreme2 = df.loc[(df['Anxiety'] < 3)].mean()[1]\n",
      "C:\\Users\\rafas\\AppData\\Local\\Temp\\ipykernel_10024\\1958109306.py:4: FutureWarning: DataFrame.mean and DataFrame.median with numeric_only=None will include datetime64 and datetime64tz columns in a future version.\n",
      "  depression_extreme2 = df.loc[(df['Depression'] < 3)].mean()[1]\n",
      "C:\\Users\\rafas\\AppData\\Local\\Temp\\ipykernel_10024\\1958109306.py:4: FutureWarning: Dropping of nuisance columns in DataFrame reductions (with 'numeric_only=None') is deprecated; in a future version this will raise TypeError.  Select only valid columns before calling the reduction.\n",
      "  depression_extreme2 = df.loc[(df['Depression'] < 3)].mean()[1]\n",
      "C:\\Users\\rafas\\AppData\\Local\\Temp\\ipykernel_10024\\1958109306.py:5: FutureWarning: DataFrame.mean and DataFrame.median with numeric_only=None will include datetime64 and datetime64tz columns in a future version.\n",
      "  insomnia_extreme2 = df.loc[(df['Insomnia'] < 3)].mean()[1]\n",
      "C:\\Users\\rafas\\AppData\\Local\\Temp\\ipykernel_10024\\1958109306.py:5: FutureWarning: Dropping of nuisance columns in DataFrame reductions (with 'numeric_only=None') is deprecated; in a future version this will raise TypeError.  Select only valid columns before calling the reduction.\n",
      "  insomnia_extreme2 = df.loc[(df['Insomnia'] < 3)].mean()[1]\n",
      "C:\\Users\\rafas\\AppData\\Local\\Temp\\ipykernel_10024\\1958109306.py:6: FutureWarning: DataFrame.mean and DataFrame.median with numeric_only=None will include datetime64 and datetime64tz columns in a future version.\n",
      "  ocd_extreme2 = df.loc[(df['OCD'] < 3)].mean()[1]\n",
      "C:\\Users\\rafas\\AppData\\Local\\Temp\\ipykernel_10024\\1958109306.py:6: FutureWarning: Dropping of nuisance columns in DataFrame reductions (with 'numeric_only=None') is deprecated; in a future version this will raise TypeError.  Select only valid columns before calling the reduction.\n",
      "  ocd_extreme2 = df.loc[(df['OCD'] < 3)].mean()[1]\n"
     ]
    },
    {
     "data": {
      "image/png": "[encoded data removed]",
      "text/plain": [
       "<Figure size 1008x504 with 1 Axes>"
      ]
     },
     "metadata": {
      "needs_background": "light"
     },
     "output_type": "display_data"
    }
   ],
   "source": [
    "fig = plt.figure(figsize=(14,7));\n",
    "\n",
    "anxiety_extreme2 = df.loc[(df['Anxiety'] < 3)].mean()[1]\n",
    "depression_extreme2 = df.loc[(df['Depression'] < 3)].mean()[1]\n",
    "insomnia_extreme2 = df.loc[(df['Insomnia'] < 3)].mean()[1]\n",
    "ocd_extreme2 = df.loc[(df['OCD'] < 3)].mean()[1]\n",
    "\n",
    "extreme_means = [anxiety_extreme, depression_extreme, insomnia_extreme, ocd_extreme]\n",
    "\n",
    "plt.barh(m_all, extreme_means, color=('lightpink', 'cornflowerblue', 'darkmagenta', 'orange'))\n",
    "  \n",
    "plt.xlabel(\"Avg hours listened\")\n",
    "plt.title(\"Hours listened for individuals with low MH rankings\")\n",
    "plt.xlim(3,5)\n",
    "plt.show()"
   ]
  },
  {
   "cell_type": "code",
   "execution_count": 140,
   "id": "80b9116f",
   "metadata": {},
   "outputs": [
    {
     "data": {
      "image/png": "[encoded data removed]",
      "text/plain": [
       "<Figure size 1008x360 with 2 Axes>"
      ]
     },
     "metadata": {
      "needs_background": "light"
     },
     "output_type": "display_data"
    }
   ],
   "source": [
    "fig = plt.figure(figsize=(14,5));\n",
    "\n",
    "corr_m2 = corr_m.iloc[8: , 8:]\n",
    "mask = np.triu(corr_m2)\n",
    "\n",
    "sns.heatmap(corr_m2, annot=True, mask=mask, cmap = 'YlOrRd')\n",
    "plt.show()"
   ]
  },
  {
   "cell_type": "code",
   "execution_count": 143,
   "id": "1e71748b",
   "metadata": {},
   "outputs": [
    {
     "data": {
      "image/png": "[encoded data removed]",
      "text/plain": [
       "<Figure size 576x360 with 1 Axes>"
      ]
     },
     "metadata": {},
     "output_type": "display_data"
    }
   ],
   "source": [
    "plt.figure(figsize=(8,5))\n",
    "plt.title('Effects of Music on Mental Health')\n",
    "\n",
    "effects = df['music_effects'].value_counts()\n",
    "effects.plot(kind='pie', colors = [\"indianred\", \"gold\", \"darkblue\"], ylabel= '');"
   ]
  },
  {
   "cell_type": "code",
   "execution_count": 144,
   "id": "d60b4265",
   "metadata": {},
   "outputs": [
    {
     "data": {
      "text/plain": [
       "Improve      518\n",
       "No effect    165\n",
       "Worsen        17\n",
       "Name: music_effects, dtype: int64"
      ]
     },
     "execution_count": 144,
     "metadata": {},
     "output_type": "execute_result"
    }
   ],
   "source": [
    "effects"
   ]
  },
  {
   "cell_type": "code",
   "execution_count": null,
   "id": "092ed924",
   "metadata": {},
   "outputs": [],
   "source": [
    "# Music genre"
   ]
  },
  {
   "cell_type": "code",
   "execution_count": 147,
   "id": "81fdb675",
   "metadata": {},
   "outputs": [
    {
     "data": {
      "text/plain": [
       "Text(0, 0.5, '')"
      ]
     },
     "execution_count": 147,
     "metadata": {},
     "output_type": "execute_result"
    },
    {
     "data": {
      "image/png": "[encoded data removed]",
      "text/plain": [
       "<Figure size 864x432 with 1 Axes>"
      ]
     },
     "metadata": {},
     "output_type": "display_data"
    }
   ],
   "source": [
    "plt.figure(figsize=(12,6))\n",
    "\n",
    "genre = df[\"favorite_genre\"].value_counts().loc[lambda x: x>10]\n",
    "genre.plot(kind='pie', labeldistance = 1.2, \n",
    "            explode=[0.05, 0, 0, 0, 0, 0, 0, 0, 0, 0, 0, 0, 0,], \n",
    "            colors = sns.color_palette('pastel')[0:13])\n",
    "\n",
    "plt.title('Top genre breakdown')\n",
    "plt.ylabel(\"\")"
   ]
  },
  {
   "cell_type": "code",
   "execution_count": 148,
   "id": "1fe3b79c",
   "metadata": {},
   "outputs": [
    {
     "data": {
      "text/plain": [
       "Rock                0.263909\n",
       "Pop                 0.162625\n",
       "Metal               0.124108\n",
       "Classical           0.072753\n",
       "Video game music    0.061341\n",
       "EDM                 0.051355\n",
       "R&B                 0.049929\n",
       "Hip hop             0.048502\n",
       "Folk                0.041369\n",
       "Country             0.034237\n",
       "Rap                 0.031384\n",
       "K pop               0.029957\n",
       "Jazz                0.028531\n",
       "Name: favorite_genre, dtype: float64"
      ]
     },
     "execution_count": 148,
     "metadata": {},
     "output_type": "execute_result"
    }
   ],
   "source": [
    "df['favorite_genre'].value_counts(normalize=True)"
   ]
  },
  {
   "cell_type": "code",
   "execution_count": 149,
   "id": "da2aa6c8",
   "metadata": {},
   "outputs": [
    {
     "data": {
      "text/plain": [
       "Rock                185\n",
       "Pop                 114\n",
       "Metal                87\n",
       "Classical            51\n",
       "Video game music     43\n",
       "EDM                  36\n",
       "R&B                  35\n",
       "Hip hop              34\n",
       "Folk                 29\n",
       "Country              24\n",
       "Rap                  22\n",
       "K pop                21\n",
       "Jazz                 20\n",
       "Name: favorite_genre, dtype: int64"
      ]
     },
     "execution_count": 149,
     "metadata": {},
     "output_type": "execute_result"
    }
   ],
   "source": [
    "df['favorite_genre'].value_counts(normalize=False)"
   ]
  },
  {
   "cell_type": "code",
   "execution_count": 151,
   "id": "a41e1af7",
   "metadata": {},
   "outputs": [
    {
     "data": {
      "image/png": "[encoded data removed]",
      "text/plain": [
       "<Figure size 864x432 with 1 Axes>"
      ]
     },
     "metadata": {
      "needs_background": "light"
     },
     "output_type": "display_data"
    }
   ],
   "source": [
    "# age and genre\n",
    "plt.figure(figsize=(12,6))\n",
    "\n",
    "sns.scatterplot(data=df, y=\"favorite_genre\", x=\"age\", alpha = 0.5, marker = \"X\", color = \"sienna\")\n",
    "plt.title('Age distribution by genre');"
   ]
  },
  {
   "cell_type": "code",
   "execution_count": 124,
   "id": "c971135e",
   "metadata": {},
   "outputs": [
    {
     "data": {
      "text/plain": [
       "Index(['date', 'age', 'streaming_service', 'hours_per_day', 'while_working',\n",
       "       'Instrumentalist', 'Composer', 'favorite_genre', 'Exploratory',\n",
       "       'foreign_languages', 'BPM', 'fq_classical', 'fq_country', 'fq_edm',\n",
       "       'fq_folk', 'fq_gospel', 'fq_hip_hop', 'fq_jazz', 'fq_k_pop', 'fq_latin',\n",
       "       'fq_lofi', 'fq_metal', 'fq_pop', 'fq_r&B', 'fq_rap', 'fq_rock',\n",
       "       'fq_video_game_music', 'Anxiety', 'Depression', 'Insomnia', 'OCD',\n",
       "       'music_effects', 'Permissions'],\n",
       "      dtype='object')"
      ]
     },
     "execution_count": 124,
     "metadata": {},
     "output_type": "execute_result"
    }
   ],
   "source": [
    "df.columns"
   ]
  }
 ],
 "metadata": {
  "kernelspec": {
   "display_name": "Python 3 (ipykernel)",
   "language": "python",
   "name": "python3"
  },
  "language_info": {
   "codemirror_mode": {
    "name": "ipython",
    "version": 3
   },
   "file_extension": ".py",
   "mimetype": "text/x-python",
   "name": "python",
   "nbconvert_exporter": "python",
   "pygments_lexer": "ipython3",
   "version": "3.9.12"
  }
 },
 "nbformat": 4,
 "nbformat_minor": 5
}
